{
 "cells": [
  {
   "cell_type": "code",
   "execution_count": 1,
   "id": "6d43f6d9",
   "metadata": {
    "pycharm": {
     "name": "#%%\n"
    }
   },
   "outputs": [],
   "source": [
    "from robot_control import RobotController\n",
    "import os\n",
    "import cv2"
   ]
  },
  {
   "cell_type": "code",
   "execution_count": 2,
   "id": "958ba266",
   "metadata": {
    "pycharm": {
     "name": "#%%\n"
    }
   },
   "outputs": [
    {
     "name": "stderr",
     "output_type": "stream",
     "text": [
      "[D 230216 13:23:07 robot_control:25] Loading Robot Drivers...\n"
     ]
    }
   ],
   "source": [
    "robot = RobotController(speed=100000)"
   ]
  },
  {
   "cell_type": "code",
   "execution_count": 3,
   "id": "c8851846",
   "metadata": {
    "pycharm": {
     "name": "#%%\n"
    }
   },
   "outputs": [
    {
     "name": "stderr",
     "output_type": "stream",
     "text": [
      "[D 230216 13:23:17 robot_control:25] Loading Robot Drivers...\n"
     ]
    }
   ],
   "source": [
    "robot.reset()"
   ]
  },
  {
   "cell_type": "code",
   "execution_count": 4,
   "id": "2756c87e",
   "metadata": {
    "pycharm": {
     "name": "#%%\n"
    }
   },
   "outputs": [
    {
     "name": "stderr",
     "output_type": "stream",
     "text": [
      "[D 230216 13:23:21 robot_control:40] Robot Click X: 200, Y:50\n",
      "[D 230216 13:23:21 robot_control:25] Loading Robot Drivers...\n"
     ]
    }
   ],
   "source": [
    "robot.click((200,50,20))"
   ]
  },
  {
   "cell_type": "code",
   "execution_count": 8,
   "id": "5b142b62",
   "metadata": {
    "pycharm": {
     "name": "#%%\n"
    }
   },
   "outputs": [
    {
     "name": "stderr",
     "output_type": "stream",
     "text": [
      "[D 230215 14:25:30 robot_control:25] Loading Robot Drivers...\n"
     ]
    }
   ],
   "source": [
    "robot.longPress((200,50,20))"
   ]
  },
  {
   "cell_type": "code",
   "execution_count": 6,
   "id": "cbc5424a",
   "metadata": {
    "pycharm": {
     "name": "#%%\n"
    }
   },
   "outputs": [
    {
     "name": "stderr",
     "output_type": "stream",
     "text": [
      "[D 220501 09:54:50 robot_control:21] Loading Robot Drivers...\n"
     ]
    }
   ],
   "source": [
    "robot.doubleclick((200,0,12))"
   ]
  },
  {
   "cell_type": "code",
   "execution_count": 18,
   "id": "7541a31d",
   "metadata": {
    "pycharm": {
     "name": "#%%\n"
    }
   },
   "outputs": [
    {
     "name": "stderr",
     "output_type": "stream",
     "text": [
      "[D 220501 09:56:39 robot_control:21] Loading Robot Drivers...\n"
     ]
    }
   ],
   "source": [
    "robot.swipe((150, 50, 17), (250, 50, 17), swipe_speed=20000)"
   ]
  },
  {
   "cell_type": "code",
   "execution_count": 33,
   "id": "a5374188",
   "metadata": {
    "pycharm": {
     "name": "#%%\n"
    }
   },
   "outputs": [
    {
     "name": "stderr",
     "output_type": "stream",
     "text": [
      "[D 220501 09:42:15 robot_control:21] Loading Robot Drivers...\n"
     ]
    }
   ],
   "source": [
    "robot.reset()"
   ]
  },
  {
   "cell_type": "code",
   "execution_count": null,
   "id": "7d342b1e",
   "metadata": {
    "pycharm": {
     "name": "#%%\n"
    }
   },
   "outputs": [],
   "source": []
  },
  {
   "cell_type": "code",
   "execution_count": 5,
   "id": "2ca1a439",
   "metadata": {},
   "outputs": [
    {
     "name": "stderr",
     "output_type": "stream",
     "text": [
      "[D 230215 16:56:05 robot_control:24] Loading Robot Drivers...\n"
     ]
    }
   ],
   "source": [
    "robot.shake((200,50,16), hor_extent=4)"
   ]
  },
  {
   "cell_type": "code",
   "execution_count": 8,
   "id": "913e3259",
   "metadata": {},
   "outputs": [
    {
     "name": "stdout",
     "output_type": "stream",
     "text": [
      "Press strength: 4\n"
     ]
    },
    {
     "name": "stderr",
     "output_type": "stream",
     "text": [
      "[D 230215 16:56:31 robot_control:24] Loading Robot Drivers...\n"
     ]
    }
   ],
   "source": [
    "robot.push((200,50,16))"
   ]
  },
  {
   "cell_type": "code",
   "execution_count": null,
   "id": "94804a0f",
   "metadata": {},
   "outputs": [],
   "source": []
  },
  {
   "cell_type": "code",
   "execution_count": 4,
   "id": "1772d6cd",
   "metadata": {
    "pycharm": {
     "name": "#%%\n"
    }
   },
   "outputs": [],
   "source": [
    "robot.close_connect()"
   ]
  },
  {
   "cell_type": "code",
   "execution_count": 16,
   "id": "88757484",
   "metadata": {
    "pycharm": {
     "name": "#%%\n"
    }
   },
   "outputs": [],
   "source": [
    "# *************************************************\n",
    "# *** Mark the Actual Distance of Robot Metrics ***\n",
    "# *************************************************\n",
    "\n",
    "def nothing(x):\n",
    "    pass\n",
    "\n",
    "cv2.namedWindow('coor')\n",
    "cv2.createTrackbar('x', 'coor', 120, 300, nothing)\n",
    "cv2.setTrackbarMin('x', 'coor', 120)\n",
    "cv2.createTrackbar('y', 'coor', 0, 100, nothing)\n",
    "cv2.setTrackbarMin('y', 'coor', -100)\n",
    "cv2.createTrackbar('z', 'coor', 20, 50, nothing)\n",
    "cv2.setTrackbarMin('z', 'coor', 13)\n",
    "\n",
    "cap = cv2.VideoCapture(0)\n",
    "cap.set(cv2.CAP_PROP_FRAME_WIDTH, 1000)\n",
    "cap.set(cv2.CAP_PROP_FRAME_HEIGHT, 500)\n",
    "\n",
    "while 1:\n",
    "    x = cv2.getTrackbarPos('x', 'coor')\n",
    "    y = cv2.getTrackbarPos('y', 'coor')    \n",
    "    z = cv2.getTrackbarPos('z', 'coor')    \n",
    "        \n",
    "    robot.swift.set_position(x=x, y=y, z=z, speed=2000, wait=False, timeout=10, cmd='G0')\n",
    "    robot.swift.flush_cmd()\n",
    "    \n",
    "    ret, frame = cap.read()\n",
    "    frame = cv2.transpose(frame)\n",
    "    frame = cv2.flip(frame, -1)\n",
    "    cv2.imshow('frame', frame)\n",
    "    if cv2.waitKey(100) == ord('q'):\n",
    "        break\n",
    "cap.release()\n",
    "cv2.destroyAllWindows()"
   ]
  },
  {
   "cell_type": "code",
   "execution_count": null,
   "id": "acb133f5",
   "metadata": {
    "pycharm": {
     "name": "#%%\n"
    }
   },
   "outputs": [],
   "source": []
  },
  {
   "cell_type": "code",
   "execution_count": 7,
   "id": "30dbf276",
   "metadata": {
    "pycharm": {
     "name": "#%%\n"
    }
   },
   "outputs": [
    {
     "name": "stdout",
     "output_type": "stream",
     "text": [
      "Clicked Point:(264,439) Robot:(203,1)\n"
     ]
    },
    {
     "name": "stderr",
     "output_type": "stream",
     "text": [
      "[D 230215 17:19:42 robot_control:39] Robot Click X: 203, Y:1\n",
      "[D 230215 17:19:42 robot_control:24] Loading Robot Drivers...\n"
     ]
    },
    {
     "name": "stdout",
     "output_type": "stream",
     "text": [
      "Clicked Point:(298,478) Robot:(195,-6)\n"
     ]
    },
    {
     "name": "stderr",
     "output_type": "stream",
     "text": [
      "[D 230215 17:20:06 robot_control:39] Robot Click X: 195, Y:-6\n",
      "[D 230215 17:20:06 robot_control:24] Loading Robot Drivers...\n"
     ]
    },
    {
     "name": "stdout",
     "output_type": "stream",
     "text": [
      "Clicked Point:(305,485) Robot:(193,-7)\n"
     ]
    },
    {
     "name": "stderr",
     "output_type": "stream",
     "text": [
      "[D 230215 17:20:10 robot_control:39] Robot Click X: 193, Y:-7\n",
      "[D 230215 17:20:10 robot_control:24] Loading Robot Drivers...\n"
     ]
    },
    {
     "name": "stdout",
     "output_type": "stream",
     "text": [
      "Clicked Point:(279,505) Robot:(189,-1)\n"
     ]
    },
    {
     "name": "stderr",
     "output_type": "stream",
     "text": [
      "[D 230215 17:21:39 robot_control:39] Robot Click X: 189, Y:-1\n",
      "[D 230215 17:21:39 robot_control:24] Loading Robot Drivers...\n"
     ]
    },
    {
     "name": "stdout",
     "output_type": "stream",
     "text": [
      "Clicked Point:(299,635) Robot:(160,-6)\n"
     ]
    },
    {
     "name": "stderr",
     "output_type": "stream",
     "text": [
      "[D 230215 17:21:42 robot_control:39] Robot Click X: 160, Y:-6\n",
      "[D 230215 17:21:42 robot_control:24] Loading Robot Drivers...\n"
     ]
    }
   ],
   "source": [
    "# *********************************************\n",
    "# *** Calibrate the Click on Window & Robot ***\n",
    "# *********************************************\n",
    "\n",
    "robot_y2img_x = round(120/540, 2)  # y_robot : x_img = 130: 540\n",
    "robot_x2img_y = round((298-120)/820, 2)  # x_robot : y_img = 310: 820\n",
    "\n",
    "def click_event(event, x, y, flags, params):\n",
    "    if event == cv2.EVENT_LBUTTONDOWN:\n",
    "        x_r, y_r = cvt_cor_to_robot(x, y)\n",
    "        print('Clicked Point:(%d,%d) Robot:(%d,%d)' %(x, y, x_r, y_r))\n",
    "#         robot.swift.set_position(x=x_r, y=y_r, z=20, speed=2000, wait=False, timeout=10, cmd='G0')\n",
    "#         robot.swift.flush_cmd()\n",
    "        robot.click((x_r, y_r, 20))\n",
    "        \n",
    "\n",
    "def cvt_cor_to_robot(x_img, y_img):\n",
    "    x_robot = int((820 - y_img) * robot_x2img_y) + 120\n",
    "    y_robot = int((270 - x_img) * robot_y2img_x)\n",
    "    return x_robot, y_robot\n",
    "\n",
    "        \n",
    "cap = cv2.VideoCapture(1)\n",
    "cap.set(cv2.CAP_PROP_FRAME_WIDTH, 1000)\n",
    "cap.set(cv2.CAP_PROP_FRAME_HEIGHT, 500)\n",
    "\n",
    "while(1):\n",
    "    ret, frame = cap.read()\n",
    "    frame = cv2.rotate(frame, cv2.ROTATE_90_CLOCKWISE)\n",
    "    \n",
    "    # clip the camera to fit the robot cor system\n",
    "    frame = frame[80:900, :]\n",
    "    \n",
    "    # get the click point on the image    \n",
    "    cv2.imshow('video', frame)\n",
    "    cv2.setMouseCallback('video', click_event)\n",
    "    \n",
    "    if cv2.waitKey(1) == ord('q'):\n",
    "        break\n",
    "    if cv2.waitKey(1) == ord('s'):\n",
    "        pass\n",
    "cap.release()\n",
    "cv2.destroyAllWindows()"
   ]
  },
  {
   "cell_type": "code",
   "execution_count": 16,
   "id": "6b56bab3",
   "metadata": {
    "pycharm": {
     "name": "#%%\n"
    }
   },
   "outputs": [],
   "source": [
    "robot.close_connect()"
   ]
  },
  {
   "cell_type": "code",
   "execution_count": 8,
   "id": "f1022440",
   "metadata": {
    "pycharm": {
     "name": "#%%\n"
    }
   },
   "outputs": [],
   "source": []
  }
 ],
 "metadata": {
  "kernelspec": {
   "display_name": "Python 3 (ipykernel)",
   "language": "python",
   "name": "python3"
  },
  "language_info": {
   "codemirror_mode": {
    "name": "ipython",
    "version": 3
   },
   "file_extension": ".py",
   "mimetype": "text/x-python",
   "name": "python",
   "nbconvert_exporter": "python",
   "pygments_lexer": "ipython3",
   "version": "3.10.10"
  }
 },
 "nbformat": 4,
 "nbformat_minor": 5
}
