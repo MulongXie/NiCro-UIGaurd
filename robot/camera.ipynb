{
 "cells": [
  {
   "cell_type": "code",
   "execution_count": 1,
   "id": "c400fb11",
   "metadata": {},
   "outputs": [
    {
     "ename": "ModuleNotFoundError",
     "evalue": "No module named 'match_elements'",
     "output_type": "error",
     "traceback": [
      "\u001b[1;31m---------------------------------------------------------------------------\u001b[0m",
      "\u001b[1;31mModuleNotFoundError\u001b[0m                       Traceback (most recent call last)",
      "Cell \u001b[1;32mIn[1], line 9\u001b[0m\n\u001b[0;32m      6\u001b[0m \u001b[38;5;28;01mimport\u001b[39;00m \u001b[38;5;21;01mnumpy\u001b[39;00m \u001b[38;5;28;01mas\u001b[39;00m \u001b[38;5;21;01mnp\u001b[39;00m\n\u001b[0;32m      7\u001b[0m \u001b[38;5;28;01mfrom\u001b[39;00m \u001b[38;5;21;01mmatplotlib\u001b[39;00m \u001b[38;5;28;01mimport\u001b[39;00m pyplot \u001b[38;5;28;01mas\u001b[39;00m plt\n\u001b[1;32m----> 9\u001b[0m \u001b[38;5;28;01mfrom\u001b[39;00m \u001b[38;5;21;01mmatch_elements\u001b[39;00m\u001b[38;5;21;01m.\u001b[39;00m\u001b[38;5;21;01mGUI_pair\u001b[39;00m \u001b[38;5;28;01mimport\u001b[39;00m GUIPair\n\u001b[0;32m     10\u001b[0m \u001b[38;5;28;01mfrom\u001b[39;00m \u001b[38;5;21;01mGUI\u001b[39;00m \u001b[38;5;28;01mimport\u001b[39;00m GUI\n\u001b[0;32m     11\u001b[0m \u001b[38;5;28;01mfrom\u001b[39;00m \u001b[38;5;21;01mOperation\u001b[39;00m \u001b[38;5;28;01mimport\u001b[39;00m Operation\n",
      "\u001b[1;31mModuleNotFoundError\u001b[0m: No module named 'match_elements'"
     ]
    }
   ],
   "source": [
    "import json\n",
    "from glob import glob\n",
    "from os.path import join as pjoin\n",
    "import os\n",
    "import cv2\n",
    "import numpy as np\n",
    "from matplotlib import pyplot as plt\n",
    "\n",
    "from match_elements.GUI_pair import GUIPair\n",
    "from GUI import GUI\n",
    "from Operation import Operation"
   ]
  },
  {
   "cell_type": "code",
   "execution_count": 2,
   "id": "5c5e7355",
   "metadata": {},
   "outputs": [
    {
     "name": "stdout",
     "output_type": "stream",
     "text": [
      "Downloading data from https://storage.googleapis.com/tensorflow/keras-applications/resnet/resnet50_weights_tf_dim_ordering_tf_kernels_notop.h5\n",
      "94765736/94765736 [==============================] - 3s 0us/step\n"
     ]
    }
   ],
   "source": [
    "from keras.applications.resnet import ResNet50\n",
    "resnet_model = ResNet50(include_top=False, input_shape=(32, 32, 3))"
   ]
  },
  {
   "cell_type": "code",
   "execution_count": 3,
   "id": "5ee6f74c",
   "metadata": {},
   "outputs": [
    {
     "name": "stderr",
     "output_type": "stream",
     "text": [
      "C:\\Users\\xie029\\AppData\\Roaming\\Python\\Python310\\site-packages\\skimage\\util\\dtype.py:27: DeprecationWarning: `np.bool8` is a deprecated alias for `np.bool_`.  (Deprecated NumPy 1.24)\n",
      "  np.bool8: (False, True),\n"
     ]
    },
    {
     "name": "stdout",
     "output_type": "stream",
     "text": [
      "[2023/02/15 16:45:28] ppocr DEBUG: Namespace(help='==SUPPRESS==', use_gpu=False, use_xpu=False, use_npu=False, ir_optim=True, use_tensorrt=False, min_subgraph_size=15, precision='fp32', gpu_mem=500, image_dir=None, page_num=0, det_algorithm='DB', det_model_dir='C:\\\\Users\\\\xie029/.paddleocr/whl\\\\det\\\\en\\\\en_PP-OCRv3_det_infer', det_limit_side_len=960, det_limit_type='max', det_box_type='quad', det_db_thresh=0.3, det_db_box_thresh=0.6, det_db_unclip_ratio=1.5, max_batch_size=10, use_dilation=False, det_db_score_mode='fast', det_east_score_thresh=0.8, det_east_cover_thresh=0.1, det_east_nms_thresh=0.2, det_sast_score_thresh=0.5, det_sast_nms_thresh=0.2, det_pse_thresh=0, det_pse_box_thresh=0.85, det_pse_min_area=16, det_pse_scale=1, scales=[8, 16, 32], alpha=1.0, beta=1.0, fourier_degree=5, rec_algorithm='SVTR_LCNet', rec_model_dir='C:\\\\Users\\\\xie029/.paddleocr/whl\\\\rec\\\\en\\\\en_PP-OCRv3_rec_infer', rec_image_inverse=True, rec_image_shape='3, 48, 320', rec_batch_num=6, max_text_length=25, rec_char_dict_path='C:\\\\Users\\\\xie029\\\\AppData\\\\Roaming\\\\Python\\\\Python310\\\\site-packages\\\\paddleocr\\\\ppocr\\\\utils\\\\en_dict.txt', use_space_char=True, vis_font_path='./doc/fonts/simfang.ttf', drop_score=0.5, e2e_algorithm='PGNet', e2e_model_dir=None, e2e_limit_side_len=768, e2e_limit_type='max', e2e_pgnet_score_thresh=0.5, e2e_char_dict_path='./ppocr/utils/ic15_dict.txt', e2e_pgnet_valid_set='totaltext', e2e_pgnet_mode='fast', use_angle_cls=True, cls_model_dir='C:\\\\Users\\\\xie029/.paddleocr/whl\\\\cls\\\\ch_ppocr_mobile_v2.0_cls_infer', cls_image_shape='3, 48, 192', label_list=['0', '180'], cls_batch_num=6, cls_thresh=0.9, enable_mkldnn=False, cpu_threads=10, use_pdserving=False, warmup=False, sr_model_dir=None, sr_image_shape='3, 32, 128', sr_batch_num=1, draw_img_save_dir='./inference_results', save_crop_res=False, crop_res_save_dir='./output', use_mp=False, total_process_num=1, process_id=0, benchmark=False, save_log_path='./log_output/', show_log=True, use_onnx=False, output='./output', table_max_len=488, table_algorithm='TableAttn', table_model_dir=None, merge_no_span_structure=True, table_char_dict_path=None, layout_model_dir=None, layout_dict_path=None, layout_score_threshold=0.5, layout_nms_threshold=0.5, kie_algorithm='LayoutXLM', ser_model_dir=None, re_model_dir=None, use_visual_backbone=True, ser_dict_path='../train_data/XFUND/class_list_xfun.txt', ocr_order_method=None, mode='structure', image_orientation=False, layout=True, table=True, ocr=True, recovery=False, use_pdf2docx_api=False, lang='en', det=True, rec=True, type='ocr', ocr_version='PP-OCRv3', structure_version='PP-StructureV2')\n"
     ]
    }
   ],
   "source": [
    "from paddleocr import PaddleOCR\n",
    "paddle_ocr = PaddleOCR(use_angle_cls=True, lang='en')"
   ]
  },
  {
   "cell_type": "code",
   "execution_count": 4,
   "id": "5d7d26f0",
   "metadata": {},
   "outputs": [
    {
     "name": "stdout",
     "output_type": "stream",
     "text": [
      "[2022/03/02 17:16:15] root DEBUG: dt_boxes num : 1, elapse : 0.03792238235473633\n",
      "[2022/03/02 17:16:15] root DEBUG: cls num  : 1, elapse : 0.004909992218017578\n",
      "[2022/03/02 17:16:15] root DEBUG: rec_res num  : 1, elapse : 0.003943204879760742\n",
      "[Text Detection Completed in 0.050 s] Input: data/operation/target.png Output: data/operation/target.json\n",
      "[2022/03/02 17:16:16] root DEBUG: dt_boxes num : 3, elapse : 0.11153817176818848\n",
      "[2022/03/02 17:16:16] root DEBUG: cls num  : 3, elapse : 0.011598348617553711\n",
      "[2022/03/02 17:16:16] root DEBUG: rec_res num  : 3, elapse : 0.03538179397583008\n",
      "[Text Detection Completed in 0.175 s] Input: data/operation/target.png Output: data/operation/target.json\n",
      "[2022/03/02 17:16:16] root DEBUG: dt_boxes num : 1, elapse : 0.03396034240722656\n",
      "[2022/03/02 17:16:16] root DEBUG: cls num  : 1, elapse : 0.00433349609375\n",
      "[2022/03/02 17:16:16] root DEBUG: rec_res num  : 1, elapse : 0.0049898624420166016\n",
      "[Text Detection Completed in 0.050 s] Input: data/operation/target.png Output: data/operation/target.json\n",
      "[2022/03/02 17:16:16] root DEBUG: dt_boxes num : 0, elapse : 0.008845090866088867\n",
      "[2022/03/02 17:16:16] root DEBUG: cls num  : 0, elapse : 0\n",
      "[2022/03/02 17:16:16] root DEBUG: rec_res num  : 0, elapse : 1.1920928955078125e-06\n",
      "[Text Detection Completed in 0.011 s] Input: data/operation/target.png Output: data/operation/target.json\n",
      "[2022/03/02 17:16:16] root DEBUG: dt_boxes num : 0, elapse : 0.011088848114013672\n",
      "[2022/03/02 17:16:16] root DEBUG: cls num  : 0, elapse : 0\n",
      "[2022/03/02 17:16:16] root DEBUG: rec_res num  : 0, elapse : 1.1920928955078125e-06\n",
      "[Text Detection Completed in 0.013 s] Input: data/operation/target.png Output: data/operation/target.json\n",
      "[2022/03/02 17:16:16] root DEBUG: dt_boxes num : 0, elapse : 0.019809961318969727\n",
      "[2022/03/02 17:16:16] root DEBUG: cls num  : 0, elapse : 0\n",
      "[2022/03/02 17:16:16] root DEBUG: rec_res num  : 0, elapse : 9.5367431640625e-07\n",
      "[Text Detection Completed in 0.024 s] Input: data/operation/target.png Output: data/operation/target.json\n",
      "[2022/03/02 17:16:16] root DEBUG: dt_boxes num : 0, elapse : 0.009146451950073242\n",
      "[2022/03/02 17:16:16] root DEBUG: cls num  : 0, elapse : 0\n",
      "[2022/03/02 17:16:16] root DEBUG: rec_res num  : 0, elapse : 1.1920928955078125e-06\n",
      "[Text Detection Completed in 0.011 s] Input: data/operation/target.png Output: data/operation/target.json\n",
      "[2022/03/02 17:16:16] root DEBUG: dt_boxes num : 1, elapse : 0.013479948043823242\n",
      "[2022/03/02 17:16:16] root DEBUG: cls num  : 1, elapse : 0.007112979888916016\n",
      "[2022/03/02 17:16:16] root DEBUG: rec_res num  : 1, elapse : 0.0032813549041748047\n",
      "[Text Detection Completed in 0.027 s] Input: data/operation/target.png Output: data/operation/target.json\n",
      "[2022/03/02 17:16:16] root DEBUG: dt_boxes num : 3, elapse : 0.09982681274414062\n",
      "[2022/03/02 17:16:16] root DEBUG: cls num  : 3, elapse : 0.01119685173034668\n",
      "[2022/03/02 17:16:16] root DEBUG: rec_res num  : 3, elapse : 0.0351719856262207\n",
      "[Text Detection Completed in 0.163 s] Input: data/operation/target.png Output: data/operation/target.json\n",
      "[2022/03/02 17:16:16] root DEBUG: dt_boxes num : 1, elapse : 0.04571032524108887\n",
      "[2022/03/02 17:16:16] root DEBUG: cls num  : 1, elapse : 0.006223201751708984\n",
      "[2022/03/02 17:16:16] root DEBUG: rec_res num  : 1, elapse : 0.006796121597290039\n",
      "[Text Detection Completed in 0.068 s] Input: data/operation/target.png Output: data/operation/target.json\n",
      "[2022/03/02 17:16:16] root DEBUG: dt_boxes num : 0, elapse : 0.012036561965942383\n",
      "[2022/03/02 17:16:16] root DEBUG: cls num  : 0, elapse : 0\n",
      "[2022/03/02 17:16:16] root DEBUG: rec_res num  : 0, elapse : 7.152557373046875e-07\n",
      "[Text Detection Completed in 0.014 s] Input: data/operation/target.png Output: data/operation/target.json\n",
      "[2022/03/02 17:16:16] root DEBUG: dt_boxes num : 0, elapse : 0.010421991348266602\n",
      "[2022/03/02 17:16:16] root DEBUG: cls num  : 0, elapse : 0\n",
      "[2022/03/02 17:16:16] root DEBUG: rec_res num  : 0, elapse : 7.152557373046875e-07\n",
      "[Text Detection Completed in 0.013 s] Input: data/operation/target.png Output: data/operation/target.json\n",
      "[2022/03/02 17:16:16] root DEBUG: dt_boxes num : 0, elapse : 0.019511699676513672\n",
      "[2022/03/02 17:16:16] root DEBUG: cls num  : 0, elapse : 0\n",
      "[2022/03/02 17:16:16] root DEBUG: rec_res num  : 0, elapse : 9.5367431640625e-07\n",
      "[Text Detection Completed in 0.023 s] Input: data/operation/target.png Output: data/operation/target.json\n",
      "[2022/03/02 17:16:16] root DEBUG: dt_boxes num : 1, elapse : 0.02015066146850586\n",
      "[2022/03/02 17:16:16] root DEBUG: cls num  : 1, elapse : 0.0042536258697509766\n",
      "[2022/03/02 17:16:16] root DEBUG: rec_res num  : 1, elapse : 0.01845693588256836\n",
      "[Text Detection Completed in 0.049 s] Input: data/operation/target.png Output: data/operation/target.json\n",
      "[2022/03/02 17:16:16] root DEBUG: dt_boxes num : 1, elapse : 0.04431271553039551\n",
      "[2022/03/02 17:16:16] root DEBUG: cls num  : 1, elapse : 0.0042989253997802734\n",
      "[2022/03/02 17:16:16] root DEBUG: rec_res num  : 1, elapse : 0.004561901092529297\n",
      "[Text Detection Completed in 0.060 s] Input: data/operation/target.png Output: data/operation/target.json\n",
      "[2022/03/02 17:16:16] root DEBUG: dt_boxes num : 1, elapse : 0.011065959930419922\n",
      "[2022/03/02 17:16:16] root DEBUG: cls num  : 1, elapse : 0.004130125045776367\n",
      "[2022/03/02 17:16:16] root DEBUG: rec_res num  : 1, elapse : 0.0032601356506347656\n",
      "[Text Detection Completed in 0.021 s] Input: data/operation/target.png Output: data/operation/target.json\n",
      "[2022/03/02 17:16:17] root DEBUG: dt_boxes num : 3, elapse : 0.09715485572814941\n",
      "[2022/03/02 17:16:17] root DEBUG: cls num  : 3, elapse : 0.011258363723754883\n",
      "[2022/03/02 17:16:17] root DEBUG: rec_res num  : 3, elapse : 0.035215139389038086\n",
      "[Text Detection Completed in 0.159 s] Input: data/operation/target.png Output: data/operation/target.json\n",
      "[2022/03/02 17:16:17] root DEBUG: dt_boxes num : 1, elapse : 0.033416032791137695\n",
      "[2022/03/02 17:16:17] root DEBUG: cls num  : 1, elapse : 0.0042116641998291016\n",
      "[2022/03/02 17:16:17] root DEBUG: rec_res num  : 1, elapse : 0.004743099212646484\n",
      "[Text Detection Completed in 0.048 s] Input: data/operation/target.png Output: data/operation/target.json\n",
      "[2022/03/02 17:16:17] root DEBUG: dt_boxes num : 0, elapse : 0.008703947067260742\n",
      "[2022/03/02 17:16:17] root DEBUG: cls num  : 0, elapse : 0\n",
      "[2022/03/02 17:16:17] root DEBUG: rec_res num  : 0, elapse : 7.152557373046875e-07\n",
      "[Text Detection Completed in 0.011 s] Input: data/operation/target.png Output: data/operation/target.json\n",
      "[2022/03/02 17:16:17] root DEBUG: dt_boxes num : 0, elapse : 0.006880998611450195\n",
      "[2022/03/02 17:16:17] root DEBUG: cls num  : 0, elapse : 0\n",
      "[2022/03/02 17:16:17] root DEBUG: rec_res num  : 0, elapse : 7.152557373046875e-07\n",
      "[Text Detection Completed in 0.009 s] Input: data/operation/target.png Output: data/operation/target.json\n",
      "[2022/03/02 17:16:17] root DEBUG: dt_boxes num : 1, elapse : 0.024308204650878906\n",
      "[2022/03/02 17:16:17] root DEBUG: cls num  : 1, elapse : 0.004178285598754883\n",
      "[2022/03/02 17:16:17] root DEBUG: rec_res num  : 1, elapse : 0.008568525314331055\n",
      "[Text Detection Completed in 0.042 s] Input: data/operation/target.png Output: data/operation/target.json\n",
      "[2022/03/02 17:16:17] root DEBUG: dt_boxes num : 0, elapse : 0.010536670684814453\n",
      "[2022/03/02 17:16:17] root DEBUG: cls num  : 0, elapse : 0\n",
      "[2022/03/02 17:16:17] root DEBUG: rec_res num  : 0, elapse : 9.5367431640625e-07\n",
      "[Text Detection Completed in 0.013 s] Input: data/operation/target.png Output: data/operation/target.json\n",
      "[2022/03/02 17:16:17] root DEBUG: dt_boxes num : 3, elapse : 0.053649187088012695\n",
      "[2022/03/02 17:16:17] root DEBUG: cls num  : 3, elapse : 0.011124610900878906\n",
      "[2022/03/02 17:16:17] root DEBUG: rec_res num  : 3, elapse : 0.0359041690826416\n",
      "[Text Detection Completed in 0.111 s] Input: data/operation/target.png Output: data/operation/target.json\n",
      "[2022/03/02 17:16:17] root DEBUG: dt_boxes num : 0, elapse : 0.010208606719970703\n",
      "[2022/03/02 17:16:17] root DEBUG: cls num  : 0, elapse : 0\n",
      "[2022/03/02 17:16:17] root DEBUG: rec_res num  : 0, elapse : 7.152557373046875e-07\n",
      "[Text Detection Completed in 0.013 s] Input: data/operation/target.png Output: data/operation/target.json\n",
      "[2022/03/02 17:16:17] root DEBUG: dt_boxes num : 0, elapse : 0.018658876419067383\n"
     ]
    },
    {
     "name": "stdout",
     "output_type": "stream",
     "text": [
      "[2022/03/02 17:16:17] root DEBUG: cls num  : 0, elapse : 0\n",
      "[2022/03/02 17:16:17] root DEBUG: rec_res num  : 0, elapse : 7.152557373046875e-07\n",
      "[Text Detection Completed in 0.023 s] Input: data/operation/target.png Output: data/operation/target.json\n",
      "[2022/03/02 17:16:17] root DEBUG: dt_boxes num : 0, elapse : 0.010701894760131836\n",
      "[2022/03/02 17:16:17] root DEBUG: cls num  : 0, elapse : 0\n",
      "[2022/03/02 17:16:17] root DEBUG: rec_res num  : 0, elapse : 9.5367431640625e-07\n",
      "[Text Detection Completed in 0.013 s] Input: data/operation/target.png Output: data/operation/target.json\n",
      "[2022/03/02 17:16:17] root DEBUG: dt_boxes num : 3, elapse : 0.09698700904846191\n",
      "[2022/03/02 17:16:17] root DEBUG: cls num  : 3, elapse : 0.011121511459350586\n",
      "[2022/03/02 17:16:17] root DEBUG: rec_res num  : 3, elapse : 0.034821271896362305\n",
      "[Text Detection Completed in 0.158 s] Input: data/operation/target.png Output: data/operation/target.json\n",
      "[2022/03/02 17:16:17] root DEBUG: dt_boxes num : 1, elapse : 0.033608198165893555\n",
      "[2022/03/02 17:16:17] root DEBUG: cls num  : 1, elapse : 0.0062944889068603516\n",
      "[2022/03/02 17:16:17] root DEBUG: rec_res num  : 1, elapse : 0.006744384765625\n",
      "[Text Detection Completed in 0.053 s] Input: data/operation/target.png Output: data/operation/target.json\n",
      "[2022/03/02 17:16:17] root DEBUG: dt_boxes num : 0, elapse : 0.011775016784667969\n",
      "[2022/03/02 17:16:17] root DEBUG: cls num  : 0, elapse : 0\n",
      "[2022/03/02 17:16:17] root DEBUG: rec_res num  : 0, elapse : 9.5367431640625e-07\n",
      "[Text Detection Completed in 0.014 s] Input: data/operation/target.png Output: data/operation/target.json\n",
      "[2022/03/02 17:16:17] root DEBUG: dt_boxes num : 0, elapse : 0.009502410888671875\n",
      "[2022/03/02 17:16:17] root DEBUG: cls num  : 0, elapse : 0\n",
      "[2022/03/02 17:16:17] root DEBUG: rec_res num  : 0, elapse : 9.5367431640625e-07\n",
      "[Text Detection Completed in 0.012 s] Input: data/operation/target.png Output: data/operation/target.json\n",
      "[2022/03/02 17:16:17] root DEBUG: dt_boxes num : 1, elapse : 0.02419424057006836\n",
      "[2022/03/02 17:16:17] root DEBUG: cls num  : 1, elapse : 0.004220724105834961\n",
      "[2022/03/02 17:16:17] root DEBUG: rec_res num  : 1, elapse : 0.008707284927368164\n",
      "[Text Detection Completed in 0.042 s] Input: data/operation/target.png Output: data/operation/target.json\n"
     ]
    }
   ],
   "source": [
    "# load operations\n",
    "testing_data_root = '/home/ml/Data/visual testing/experiments/humanoid-output/adguard-1'\n",
    "\n",
    "steps_file = pjoin(testing_data_root, 'output.json')\n",
    "steps = json.load(open(steps_file, 'r'))\n",
    "\n",
    "operations = []\n",
    "for step in steps:\n",
    "    op = Operation(pjoin(testing_data_root, step['tag'] + '.jpg'), step['event_type'], step['bounds'])\n",
    "    op.detect_text(paddle_ocr)\n",
    "    op.shrink_target_element_img()\n",
    "    op.resize(int(op.ui_img_width * (800 / op.ui_img_height)), 800)        \n",
    "    operations.append(op)\n",
    "#     op.show_target_ele()\n",
    "#     break\n",
    "# opr = operations[0]\n",
    "# opr.show_target_ele()"
   ]
  },
  {
   "cell_type": "code",
   "execution_count": null,
   "id": "794f3e3f",
   "metadata": {},
   "outputs": [],
   "source": []
  },
  {
   "cell_type": "code",
   "execution_count": 8,
   "id": "cba096c8",
   "metadata": {},
   "outputs": [
    {
     "name": "stdout",
     "output_type": "stream",
     "text": [
      "[2022/03/02 17:17:56] root DEBUG: dt_boxes num : 16, elapse : 0.13343477249145508\n",
      "[2022/03/02 17:17:56] root DEBUG: cls num  : 16, elapse : 0.05554795265197754\n",
      "[2022/03/02 17:17:56] root DEBUG: rec_res num  : 16, elapse : 0.10076284408569336\n",
      "[Text Detection Completed in 0.306 s] Input: data/output/temp.jpg Output: data/output/ocr/temp.json\n",
      "[Compo Detection Completed in 0.421 s] Input: data/output/temp.jpg Output: data/output/ip/temp.json\n",
      "[Merge Completed] Input: data/output/temp.jpg Output: data/output/merge/temp.jpg\n",
      "0.30547148\n",
      "0.5700277\n",
      "0.33187753\n",
      "0.38271827\n",
      "0.33264926\n",
      "0.32875717\n",
      "0.2819058\n",
      "0.31525716\n",
      "0.20916313\n",
      "Match by image\n",
      "===================\n",
      "\n",
      "[2022/03/02 17:18:09] root DEBUG: dt_boxes num : 13, elapse : 0.15924644470214844\n",
      "[2022/03/02 17:18:09] root DEBUG: cls num  : 13, elapse : 0.04620552062988281\n",
      "[2022/03/02 17:18:09] root DEBUG: rec_res num  : 13, elapse : 0.09777522087097168\n",
      "[Text Detection Completed in 0.321 s] Input: data/output/temp.jpg Output: data/output/ocr/temp.json\n",
      "[Compo Detection Completed in 0.474 s] Input: data/output/temp.jpg Output: data/output/ip/temp.json\n",
      "[Merge Completed] Input: data/output/temp.jpg Output: data/output/merge/temp.jpg\n",
      "0.8450413\n",
      "0.36847538\n",
      "0.18965596\n",
      "0.20164844\n",
      "0.22516966\n",
      "Match by image\n",
      "===================\n",
      "\n",
      "[2022/03/02 17:18:19] root DEBUG: dt_boxes num : 12, elapse : 0.1351184844970703\n",
      "[2022/03/02 17:18:19] root DEBUG: cls num  : 12, elapse : 0.0432591438293457\n",
      "[2022/03/02 17:18:19] root DEBUG: rec_res num  : 12, elapse : 0.09888076782226562\n",
      "[Text Detection Completed in 0.294 s] Input: data/output/temp.jpg Output: data/output/ocr/temp.json\n",
      "[Compo Detection Completed in 0.473 s] Input: data/output/temp.jpg Output: data/output/ip/temp.json\n",
      "[Merge Completed] Input: data/output/temp.jpg Output: data/output/merge/temp.jpg\n",
      "No matched element found\n",
      "===================\n",
      "\n",
      "[2022/03/02 17:18:25] root DEBUG: dt_boxes num : 16, elapse : 0.17897939682006836\n",
      "[2022/03/02 17:18:25] root DEBUG: cls num  : 16, elapse : 0.05647635459899902\n",
      "[2022/03/02 17:18:25] root DEBUG: rec_res num  : 16, elapse : 0.1020200252532959\n",
      "[Text Detection Completed in 0.355 s] Input: data/output/temp.jpg Output: data/output/ocr/temp.json\n",
      "[Compo Detection Completed in 0.433 s] Input: data/output/temp.jpg Output: data/output/ip/temp.json\n",
      "[Merge Completed] Input: data/output/temp.jpg Output: data/output/merge/temp.jpg\n",
      "No matched element found\n",
      "===================\n",
      "\n",
      "[2022/03/02 17:18:41] root DEBUG: dt_boxes num : 17, elapse : 0.13677000999450684\n",
      "[2022/03/02 17:18:41] root DEBUG: cls num  : 17, elapse : 0.05977630615234375\n",
      "[2022/03/02 17:18:41] root DEBUG: rec_res num  : 17, elapse : 0.11084651947021484\n",
      "[Text Detection Completed in 0.324 s] Input: data/output/temp.jpg Output: data/output/ocr/temp.json\n",
      "[Compo Detection Completed in 0.439 s] Input: data/output/temp.jpg Output: data/output/ip/temp.json\n",
      "[Merge Completed] Input: data/output/temp.jpg Output: data/output/merge/temp.jpg\n",
      "No matched element found\n",
      "===================\n",
      "\n"
     ]
    }
   ],
   "source": [
    "# ********************************************\n",
    "# *** Streaming Detection with Key Control ***\n",
    "# ********************************************\n",
    "cap = cv2.VideoCapture(0)\n",
    "cap.set(cv2.CAP_PROP_FRAME_WIDTH, 960)\n",
    "cap.set(cv2.CAP_PROP_FRAME_HEIGHT, 540)\n",
    "\n",
    "opr_id = 0\n",
    "\n",
    "while(1):\n",
    "    ret, frame = cap.read()\n",
    "    frame = cv2.rotate(frame, cv2.cv2.ROTATE_90_CLOCKWISE)\n",
    "    frame = frame[80:900, :]\n",
    "    \n",
    "    cv2.imshow('camera', frame)\n",
    "    key = cv2.waitKey(1)\n",
    "    if key == ord('q'):\n",
    "        break\n",
    "    elif key == ord('s'):\n",
    "        cv2.destroyWindow('element matching')\n",
    "        opr = operations[opr_id]\n",
    "        opr.show_target_ele(show=True)\n",
    "        cv2.imwrite('data/output/temp.jpg', frame)\n",
    "        \n",
    "        # 1. detect GUI element in the frame         \n",
    "        gui = GUI('data/output/temp.jpg')\n",
    "        gui.detect_element(True, True, True, paddle_cor=paddle_ocr)\n",
    "        \n",
    "        # 2. focus on the screen region and adjust all elements\n",
    "        gui.adjust_elements_by_screen()\n",
    "        matched_ele = gui.match_elements(target_ele_img=opr.target_element_img, target_ele_text=opr.get_text_content(), resnet_model=resnet_model, min_similarity_img=0.55)\n",
    "        \n",
    "        # 3. show the result\n",
    "        if matched_ele is not None:\n",
    "            board = gui.img.copy()\n",
    "            matched_ele.draw_element(board, show=False)\n",
    "            board = cv2.hconcat([opr.show_target_ele(show=False), board, gui.det_result_imgs['merge']])\n",
    "            cv2.imshow('element matching', board)\n",
    "            opr_id += 1\n",
    "        print('===================\\n')\n",
    "cap.release()\n",
    "cv2.destroyAllWindows()"
   ]
  },
  {
   "cell_type": "code",
   "execution_count": 9,
   "id": "46e9c773",
   "metadata": {},
   "outputs": [],
   "source": [
    "gui.show_detection_result()"
   ]
  },
  {
   "cell_type": "code",
   "execution_count": 8,
   "id": "4f564880",
   "metadata": {},
   "outputs": [
    {
     "data": {
      "text/plain": [
       "[]"
      ]
     },
     "execution_count": 8,
     "metadata": {},
     "output_type": "execute_result"
    }
   ],
   "source": [
    "operations[3].show_target_ele()\n",
    "operations[3].target_element_text"
   ]
  },
  {
   "cell_type": "code",
   "execution_count": 14,
   "id": "e9d86bf9",
   "metadata": {},
   "outputs": [
    {
     "name": "stdout",
     "output_type": "stream",
     "text": [
      "No matched element found\n"
     ]
    }
   ],
   "source": [
    "gui.match_elements(target_ele_img=operations[3].target_element_img, resnet_model=resnet_model, show=True)"
   ]
  },
  {
   "cell_type": "code",
   "execution_count": null,
   "id": "18a261bc",
   "metadata": {},
   "outputs": [],
   "source": []
  },
  {
   "cell_type": "code",
   "execution_count": null,
   "id": "b5c8b168",
   "metadata": {},
   "outputs": [],
   "source": []
  },
  {
   "cell_type": "code",
   "execution_count": 4,
   "id": "8f3d5665",
   "metadata": {},
   "outputs": [
    {
     "name": "stdout",
     "output_type": "stream",
     "text": [
      "[2022/03/01 21:55:58] root DEBUG: dt_boxes num : 4, elapse : 0.18249082565307617\n",
      "[2022/03/01 21:55:58] root DEBUG: cls num  : 4, elapse : 0.01497507095336914\n",
      "[2022/03/01 21:55:58] root DEBUG: rec_res num  : 4, elapse : 0.04303288459777832\n",
      "[Text Detection Completed in 0.255 s] Input: data/output/temp.jpg Output: data/output/ocr/temp.json\n",
      "[Compo Detection Completed in 0.483 s] Input: data/output/temp.jpg Output: data/output/ip/temp.json\n",
      "[Merge Completed] Input: data/output/temp.jpg Output: data/output/merge/temp.jpg\n",
      "===================\n",
      "\n",
      "[2022/03/01 21:55:59] root DEBUG: dt_boxes num : 13, elapse : 0.14171838760375977\n",
      "[2022/03/01 21:55:59] root DEBUG: cls num  : 13, elapse : 0.04781770706176758\n",
      "[2022/03/01 21:55:59] root DEBUG: rec_res num  : 13, elapse : 0.08809828758239746\n",
      "[Text Detection Completed in 0.294 s] Input: data/output/temp.jpg Output: data/output/ocr/temp.json\n",
      "[Compo Detection Completed in 0.489 s] Input: data/output/temp.jpg Output: data/output/ip/temp.json\n",
      "[Merge Completed] Input: data/output/temp.jpg Output: data/output/merge/temp.jpg\n",
      "===================\n",
      "\n",
      "[2022/03/01 21:56:00] root DEBUG: dt_boxes num : 17, elapse : 0.1359844207763672\n",
      "[2022/03/01 21:56:00] root DEBUG: cls num  : 17, elapse : 0.061224937438964844\n",
      "[2022/03/01 21:56:00] root DEBUG: rec_res num  : 17, elapse : 0.11017775535583496\n",
      "[Text Detection Completed in 0.324 s] Input: data/output/temp.jpg Output: data/output/ocr/temp.json\n",
      "[Compo Detection Completed in 0.455 s] Input: data/output/temp.jpg Output: data/output/ip/temp.json\n",
      "[Merge Completed] Input: data/output/temp.jpg Output: data/output/merge/temp.jpg\n",
      "===================\n",
      "\n",
      "[2022/03/01 21:56:01] root DEBUG: dt_boxes num : 16, elapse : 0.14180278778076172\n",
      "[2022/03/01 21:56:01] root DEBUG: cls num  : 16, elapse : 0.06667327880859375\n",
      "[2022/03/01 21:56:01] root DEBUG: rec_res num  : 16, elapse : 0.10415244102478027\n",
      "[Text Detection Completed in 0.329 s] Input: data/output/temp.jpg Output: data/output/ocr/temp.json\n",
      "[Compo Detection Completed in 0.452 s] Input: data/output/temp.jpg Output: data/output/ip/temp.json\n",
      "[Merge Completed] Input: data/output/temp.jpg Output: data/output/merge/temp.jpg\n",
      "===================\n",
      "\n",
      "[2022/03/01 21:56:02] root DEBUG: dt_boxes num : 4, elapse : 0.13129901885986328\n",
      "[2022/03/01 21:56:02] root DEBUG: cls num  : 4, elapse : 0.014513969421386719\n",
      "[2022/03/01 21:56:02] root DEBUG: rec_res num  : 4, elapse : 0.05318403244018555\n",
      "[Text Detection Completed in 0.217 s] Input: data/output/temp.jpg Output: data/output/ocr/temp.json\n",
      "[Compo Detection Completed in 0.549 s] Input: data/output/temp.jpg Output: data/output/ip/temp.json\n",
      "[Merge Completed] Input: data/output/temp.jpg Output: data/output/merge/temp.jpg\n",
      "===================\n",
      "\n",
      "[2022/03/01 21:56:02] root DEBUG: dt_boxes num : 1, elapse : 0.1322619915008545\n",
      "[2022/03/01 21:56:02] root DEBUG: cls num  : 1, elapse : 0.004263401031494141\n",
      "[2022/03/01 21:56:03] root DEBUG: rec_res num  : 1, elapse : 0.008250951766967773\n",
      "[Text Detection Completed in 0.159 s] Input: data/output/temp.jpg Output: data/output/ocr/temp.json\n",
      "[Compo Detection Completed in 0.499 s] Input: data/output/temp.jpg Output: data/output/ip/temp.json\n",
      "[Merge Completed] Input: data/output/temp.jpg Output: data/output/merge/temp.jpg\n",
      "===================\n",
      "\n",
      "[2022/03/01 21:56:03] root DEBUG: dt_boxes num : 6, elapse : 0.13689875602722168\n",
      "[2022/03/01 21:56:03] root DEBUG: cls num  : 6, elapse : 0.022636890411376953\n",
      "[2022/03/01 21:56:03] root DEBUG: rec_res num  : 6, elapse : 0.06825876235961914\n",
      "[Text Detection Completed in 0.244 s] Input: data/output/temp.jpg Output: data/output/ocr/temp.json\n",
      "[Compo Detection Completed in 0.481 s] Input: data/output/temp.jpg Output: data/output/ip/temp.json\n",
      "[Merge Completed] Input: data/output/temp.jpg Output: data/output/merge/temp.jpg\n",
      "===================\n",
      "\n",
      "[2022/03/01 21:56:04] root DEBUG: dt_boxes num : 17, elapse : 0.14672017097473145\n",
      "[2022/03/01 21:56:04] root DEBUG: cls num  : 17, elapse : 0.05996274948120117\n",
      "[2022/03/01 21:56:04] root DEBUG: rec_res num  : 17, elapse : 0.1085805892944336\n",
      "[Text Detection Completed in 0.331 s] Input: data/output/temp.jpg Output: data/output/ocr/temp.json\n",
      "[Compo Detection Completed in 0.458 s] Input: data/output/temp.jpg Output: data/output/ip/temp.json\n",
      "[Merge Completed] Input: data/output/temp.jpg Output: data/output/merge/temp.jpg\n",
      "===================\n",
      "\n",
      "[2022/03/01 21:56:05] root DEBUG: dt_boxes num : 17, elapse : 0.13425898551940918\n",
      "[2022/03/01 21:56:05] root DEBUG: cls num  : 17, elapse : 0.06014680862426758\n",
      "[2022/03/01 21:56:05] root DEBUG: rec_res num  : 17, elapse : 0.10880732536315918\n",
      "[Text Detection Completed in 0.319 s] Input: data/output/temp.jpg Output: data/output/ocr/temp.json\n",
      "[Compo Detection Completed in 0.414 s] Input: data/output/temp.jpg Output: data/output/ip/temp.json\n",
      "[Merge Completed] Input: data/output/temp.jpg Output: data/output/merge/temp.jpg\n",
      "===================\n",
      "\n",
      "[2022/03/01 21:56:06] root DEBUG: dt_boxes num : 17, elapse : 0.13352084159851074\n",
      "[2022/03/01 21:56:06] root DEBUG: cls num  : 17, elapse : 0.059975624084472656\n",
      "[2022/03/01 21:56:06] root DEBUG: rec_res num  : 17, elapse : 0.1097569465637207\n",
      "[Text Detection Completed in 0.321 s] Input: data/output/temp.jpg Output: data/output/ocr/temp.json\n",
      "[Compo Detection Completed in 0.421 s] Input: data/output/temp.jpg Output: data/output/ip/temp.json\n",
      "[Merge Completed] Input: data/output/temp.jpg Output: data/output/merge/temp.jpg\n",
      "===================\n",
      "\n",
      "[2022/03/01 21:56:06] root DEBUG: dt_boxes num : 17, elapse : 0.13268828392028809\n",
      "[2022/03/01 21:56:06] root DEBUG: cls num  : 17, elapse : 0.061007022857666016\n",
      "[2022/03/01 21:56:06] root DEBUG: rec_res num  : 17, elapse : 0.11586356163024902\n",
      "[Text Detection Completed in 0.327 s] Input: data/output/temp.jpg Output: data/output/ocr/temp.json\n",
      "[Compo Detection Completed in 0.413 s] Input: data/output/temp.jpg Output: data/output/ip/temp.json\n",
      "[Merge Completed] Input: data/output/temp.jpg Output: data/output/merge/temp.jpg\n",
      "===================\n",
      "\n",
      "[2022/03/01 21:56:07] root DEBUG: dt_boxes num : 17, elapse : 0.14950799942016602\n",
      "[2022/03/01 21:56:07] root DEBUG: cls num  : 17, elapse : 0.06344223022460938\n",
      "[2022/03/01 21:56:07] root DEBUG: rec_res num  : 17, elapse : 0.11200428009033203\n",
      "[Text Detection Completed in 0.342 s] Input: data/output/temp.jpg Output: data/output/ocr/temp.json\n",
      "[Compo Detection Completed in 0.506 s] Input: data/output/temp.jpg Output: data/output/ip/temp.json\n",
      "[Merge Completed] Input: data/output/temp.jpg Output: data/output/merge/temp.jpg\n",
      "===================\n",
      "\n",
      "[2022/03/01 21:56:08] root DEBUG: dt_boxes num : 17, elapse : 0.13583588600158691\n",
      "[2022/03/01 21:56:08] root DEBUG: cls num  : 17, elapse : 0.06106305122375488\n",
      "[2022/03/01 21:56:08] root DEBUG: rec_res num  : 17, elapse : 0.1148233413696289\n",
      "[Text Detection Completed in 0.328 s] Input: data/output/temp.jpg Output: data/output/ocr/temp.json\n",
      "[Compo Detection Completed in 0.420 s] Input: data/output/temp.jpg Output: data/output/ip/temp.json\n",
      "[Merge Completed] Input: data/output/temp.jpg Output: data/output/merge/temp.jpg\n",
      "===================\n",
      "\n"
     ]
    }
   ],
   "source": [
    "# ***************************\n",
    "# *** Streaming Detection ***\n",
    "# ***************************\n",
    "cap = cv2.VideoCapture(0)\n",
    "cap.set(cv2.CAP_PROP_FRAME_WIDTH, 960)\n",
    "cap.set(cv2.CAP_PROP_FRAME_HEIGHT, 540)\n",
    "\n",
    "while(1):\n",
    "    ret, frame = cap.read()\n",
    "    frame = cv2.rotate(frame, cv2.cv2.ROTATE_90_CLOCKWISE)\n",
    "    frame = frame[80:900, :]\n",
    "    \n",
    "#     cv2.imshow('camera', frame)\n",
    "    key = cv2.waitKey(1)\n",
    "    if key == ord('q'):\n",
    "        break\n",
    "    cv2.imwrite('data/output/temp.jpg', frame)\n",
    "    gui = GUI('data/output/temp.jpg')\n",
    "    gui.detect_element(True, True, True, paddle_cor=paddle_ocr)\n",
    "    gui.recognize_phone_screen()\n",
    "    cv2.imshow('camera', gui.det_result_imgs['merge'])\n",
    "    cv2.imshow('screen', gui.draw_screen(show=False))\n",
    "    print('===================\\n')\n",
    "cap.release()\n",
    "cv2.destroyAllWindows()"
   ]
  },
  {
   "cell_type": "code",
   "execution_count": 1,
   "id": "8a7f5bc5",
   "metadata": {},
   "outputs": [
    {
     "name": "stdout",
     "output_type": "stream",
     "text": [
      "Camera Loaded\n"
     ]
    }
   ],
   "source": [
    "# *******************************\n",
    "# *** Adjust Video Clip Range ***\n",
    "# *******************************\n",
    "\n",
    "import cv2\n",
    "\n",
    "def nothing(x):\n",
    "    pass\n",
    "\n",
    "cv2.namedWindow('win')\n",
    "cv2.createTrackbar('top', 'win', 80, 960, nothing)\n",
    "cv2.createTrackbar('left', 'win', 0, 540, nothing)\n",
    "cv2.createTrackbar('bottom', 'win', 900, 960, nothing)\n",
    "cv2.createTrackbar('right', 'win', 540, 540, nothing)\n",
    "\n",
    "cap = cv2.VideoCapture(1, cv2.CAP_DSHOW)\n",
    "cap.set(cv2.CAP_PROP_FRAME_WIDTH, 960)\n",
    "cap.set(cv2.CAP_PROP_FRAME_HEIGHT, 540)\n",
    "print('Camera Loaded')\n",
    "\n",
    "while(1):\n",
    "    ret, frame = cap.read()\n",
    "    frame = cv2.rotate(frame, cv2.ROTATE_90_CLOCKWISE)\n",
    "    \n",
    "    top = cv2.getTrackbarPos('top', 'win')\n",
    "    left = cv2.getTrackbarPos('left', 'win')\n",
    "    bottom = cv2.getTrackbarPos('bottom', 'win')\n",
    "    right = cv2.getTrackbarPos('right', 'win')\n",
    "    \n",
    "    frame_clip = frame[top:bottom, left:right]\n",
    "    cv2.imshow('frame', frame)\n",
    "    cv2.imshow('clip', frame_clip)\n",
    "    if cv2.waitKey(1) == ord('q'):\n",
    "        break\n",
    "cap.release()\n",
    "cv2.destroyAllWindows()"
   ]
  },
  {
   "cell_type": "code",
   "execution_count": 3,
   "id": "c4fbe3a6",
   "metadata": {},
   "outputs": [
    {
     "data": {
      "text/plain": [
       "(False, None)"
      ]
     },
     "execution_count": 3,
     "metadata": {},
     "output_type": "execute_result"
    }
   ],
   "source": [
    "cap.read()"
   ]
  },
  {
   "cell_type": "code",
   "execution_count": null,
   "id": "c9eea5b8",
   "metadata": {},
   "outputs": [],
   "source": []
  },
  {
   "cell_type": "code",
   "execution_count": null,
   "id": "5f184a02",
   "metadata": {},
   "outputs": [],
   "source": []
  }
 ],
 "metadata": {
  "kernelspec": {
   "display_name": "Python 3 (ipykernel)",
   "language": "python",
   "name": "python3"
  },
  "language_info": {
   "codemirror_mode": {
    "name": "ipython",
    "version": 3
   },
   "file_extension": ".py",
   "mimetype": "text/x-python",
   "name": "python",
   "nbconvert_exporter": "python",
   "pygments_lexer": "ipython3",
   "version": "3.10.10"
  }
 },
 "nbformat": 4,
 "nbformat_minor": 5
}
