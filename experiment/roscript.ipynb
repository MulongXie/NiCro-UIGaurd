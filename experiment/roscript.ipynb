{
 "cells": [
  {
   "cell_type": "code",
   "execution_count": 1,
   "id": "bb0a17e0",
   "metadata": {
    "pycharm": {
     "name": "#%%\n"
    }
   },
   "outputs": [],
   "source": [
    "import cv2\n",
    "import numpy as np\n",
    "from matplotlib import pyplot as plot"
   ]
  },
  {
   "cell_type": "code",
   "execution_count": 2,
   "id": "5dd81763",
   "metadata": {
    "pycharm": {
     "name": "#%%\n"
    }
   },
   "outputs": [],
   "source": [
    "def detect_hand_region(img, show=False):\n",
    "    # converting from gbr to hsv color space\n",
    "    img_HSV = cv2.cvtColor(img, cv2.COLOR_BGR2HSV)\n",
    "    # skin color range for hsv color space\n",
    "    HSV_mask = cv2.inRange(img_HSV, (0, 15, 0), (17,170,255))\n",
    "    HSV_mask = cv2.morphologyEx(HSV_mask, cv2.MORPH_OPEN, np.ones((3,3), np.uint8))\n",
    "\n",
    "    # converting from gbr to YCbCr color space\n",
    "    img_YCrCb = cv2.cvtColor(img, cv2.COLOR_BGR2YCrCb)\n",
    "    # skin color range for hsv color space\n",
    "    YCrCb_mask = cv2.inRange(img_YCrCb, (0, 135, 85), (255,180,135))\n",
    "    YCrCb_mask = cv2.morphologyEx(YCrCb_mask, cv2.MORPH_OPEN, np.ones((3,3), np.uint8))\n",
    "\n",
    "    # merge skin detection (YCbCr and hsv)\n",
    "    global_mask = cv2.bitwise_and(YCrCb_mask,HSV_mask)\n",
    "    global_mask = cv2.medianBlur(global_mask,3)\n",
    "    global_mask = cv2.morphologyEx(global_mask, cv2.MORPH_OPEN, np.ones((4,4), np.uint8))\n",
    "\n",
    "    #show results\n",
    "    if show:\n",
    "        cv2.imshow(\"1_HSV\",HSV_mask)\n",
    "        cv2.imshow(\"2_YCbCr\",YCrCb_mask)\n",
    "        cv2.imshow(\"3_global_result\",global_mask)\n",
    "        cv2.imshow(\"org\",img)\n",
    "        cv2.waitKey(0)\n",
    "        cv2.destroyAllWindows()\n",
    "    \n",
    "    return global_mask"
   ]
  },
  {
   "cell_type": "code",
   "execution_count": 3,
   "id": "68cd655a",
   "metadata": {
    "pycharm": {
     "name": "#%%\n"
    }
   },
   "outputs": [],
   "source": [
    "def is_contour_close_to_border(contour, img_shape, threshold=0.1):\n",
    "    x = contour[:,:,0]\n",
    "    y = contour[:,:,1]\n",
    "    # left, right = min(x), max(x)\n",
    "    # top, bottom = min(y), max(y)\n",
    "    bottom = max(y)[0]\n",
    "    height, width = img_shape[:2]\n",
    "    \n",
    "    if height - bottom < height * threshold:\n",
    "        return True\n",
    "    return False\n",
    "\n",
    "\n",
    "def identify_hand_contour(binary, img_shape, show=False):\n",
    "    contours, _ = cv2.findContours(binary, cv2.RETR_TREE, cv2.CHAIN_APPROX_NONE)\n",
    "    contours = sorted(contours, key=lambda x: len(x), reverse=True)\n",
    "    \n",
    "    hand_contour = None\n",
    "    for cnt in contours:\n",
    "        if is_contour_close_to_border(cnt, img_shape):\n",
    "            hand_contour = cnt\n",
    "            break\n",
    "    \n",
    "    if hand_contour is not None:\n",
    "        if show:\n",
    "            draw_cnt = np.zeros((binary.shape[0], binary.shape[1], 3), dtype=np.uint8)\n",
    "            cv2.drawContours(draw_cnt, [hand_contour], 0, (255,255,0), 2)\n",
    "            cv2.imshow(\"hand contour\",draw_cnt)\n",
    "            cv2.waitKey(0)\n",
    "            cv2.destroyAllWindows()\n",
    "    else:\n",
    "        print('No hand region found')\n",
    "    return hand_contour"
   ]
  },
  {
   "cell_type": "code",
   "execution_count": 4,
   "id": "6f81a57c",
   "metadata": {
    "pycharm": {
     "name": "#%%\n"
    }
   },
   "outputs": [],
   "source": [
    "def detect_fingertip(contour, show=False, image=None):\n",
    "    fingertip = min(contour, key=lambda x: x[0][1])       \n",
    "    fingertip = np.reshape(fingertip, (2))\n",
    "    \n",
    "    if show and image is not None:\n",
    "        board = image.copy()\n",
    "        cv2.circle(board, fingertip, 5, (0,255,0), 2)\n",
    "        cv2.imshow('fingertip', board)\n",
    "        cv2.waitKey()\n",
    "        cv2.destroyAllWindows()\n",
    "    return fingertip"
   ]
  },
  {
   "cell_type": "code",
   "execution_count": 5,
   "id": "4b5c21ba",
   "metadata": {
    "pycharm": {
     "name": "#%%\n"
    }
   },
   "outputs": [],
   "source": [
    "# Open a simple image\n",
    "# img=cv2.imread(\"h1.jpg\")\n",
    "\n",
    "# binary = detect_hand_region(img)\n",
    "# hand_contour = identify_hand_contour(binary)\n",
    "# detect_fingertip(hand_contour, image=img)"
   ]
  },
  {
   "cell_type": "code",
   "execution_count": null,
   "id": "e331af3c",
   "metadata": {
    "pycharm": {
     "name": "#%%\n"
    }
   },
   "outputs": [],
   "source": []
  },
  {
   "cell_type": "code",
   "execution_count": 19,
   "id": "99945825",
   "metadata": {
    "pycharm": {
     "name": "#%%\n"
    }
   },
   "outputs": [
    {
     "name": "stdout",
     "output_type": "stream",
     "text": [
      "No hand region found\n",
      "No hand region found\n",
      "No hand region found\n",
      "No hand region found\n",
      "No hand region found\n",
      "No hand region found\n",
      "No hand region found\n",
      "No hand region found\n",
      "No hand region found\n",
      "No hand region found\n",
      "No hand region found\n",
      "No hand region found\n",
      "No hand region found\n",
      "No hand region found\n",
      "No hand region found\n",
      "No hand region found\n",
      "No hand region found\n",
      "No hand region found\n",
      "No hand region found\n",
      "No hand region found\n",
      "No hand region found\n",
      "No hand region found\n",
      "No hand region found\n",
      "No hand region found\n"
     ]
    }
   ],
   "source": [
    "# *******************************\n",
    "# *** Adjust Video Clip Range ***\n",
    "# *******************************\n",
    "\n",
    "import cv2\n",
    "\n",
    "def nothing(x):\n",
    "    pass\n",
    "\n",
    "\n",
    "cap = cv2.VideoCapture(0)\n",
    "cap.set(cv2.CAP_PROP_FRAME_WIDTH, 960)\n",
    "cap.set(cv2.CAP_PROP_FRAME_HEIGHT, 540)\n",
    "\n",
    "fingertips = []\n",
    "\n",
    "while(1):\n",
    "    ret, frame = cap.read()\n",
    "    frame = cv2.rotate(frame, cv2.cv2.ROTATE_90_CLOCKWISE)\n",
    "    \n",
    "    # 1. Color-range-based hand region detection and binarization\n",
    "    binary = detect_hand_region(frame)\n",
    "    cv2.imshow(\"binary\", binary)\n",
    "    \n",
    "    # 2. Identify hand contour\n",
    "    hand_contour = identify_hand_contour(binary, frame.shape)\n",
    "    if hand_contour is not None:\n",
    "        draw_cnt = np.zeros((binary.shape[0], binary.shape[1], 3), dtype=np.uint8)\n",
    "        cv2.drawContours(draw_cnt, [hand_contour], 0, (255,255,0), 2)\n",
    "        cv2.imshow(\"hand contour\",draw_cnt)\n",
    "    \n",
    "    # 3. Detect the fingertip\n",
    "    if hand_contour is not None:\n",
    "        fingertip = detect_fingertip(hand_contour)\n",
    "        fingertips.append(fingertip)\n",
    "        draw_fingertip = frame.copy()\n",
    "        cv2.circle(draw_fingertip, fingertip, 5, (0,255,0), 2)\n",
    "        cv2.imshow('fingertip', draw_fingertip)\n",
    "    else:\n",
    "        fingertips.append([-1,frame.shape[0]])\n",
    "        \n",
    "    if cv2.waitKey(1) == ord('q'):\n",
    "        break\n",
    "cap.release()\n",
    "cv2.destroyAllWindows()"
   ]
  },
  {
   "cell_type": "code",
   "execution_count": 27,
   "id": "b5de924e",
   "metadata": {
    "pycharm": {
     "name": "#%%\n"
    }
   },
   "outputs": [
    {
     "data": {
      "text/plain": [
       "[<matplotlib.lines.Line2D at 0x7f418a7c6438>]"
      ]
     },
     "execution_count": 27,
     "metadata": {},
     "output_type": "execute_result"
    },
    {
     "data": {
      "image/png": "[encoded data removed]",
      "text/plain": [
       "<Figure size 432x288 with 1 Axes>"
      ]
     },
     "metadata": {
      "needs_background": "light"
     },
     "output_type": "display_data"
    }
   ],
   "source": [
    "fingertips_v = [frame.shape[0] - p[1] for p in fingertips]\n",
    "plot.plot(fingertips_v)"
   ]
  },
  {
   "cell_type": "code",
   "execution_count": 38,
   "id": "576e4cfa",
   "metadata": {
    "pycharm": {
     "name": "#%%\n"
    }
   },
   "outputs": [],
   "source": [
    "groups_id = []\n",
    "start = -1\n",
    "for i, pnt in enumerate(fingertips_v):\n",
    "    if start == -1:\n",
    "        if pnt != 0:\n",
    "            start = i\n",
    "    else:\n",
    "        if pnt == 0:\n",
    "            groups_id.append([start, i])\n",
    "            start = -1"
   ]
  },
  {
   "cell_type": "code",
   "execution_count": 41,
   "id": "5f1a621f",
   "metadata": {
    "pycharm": {
     "name": "#%%\n"
    }
   },
   "outputs": [],
   "source": [
    "fingertips_frame_groups = [fingertips[gid[0]:gid[1]] for gid in groups_id]"
   ]
  },
  {
   "cell_type": "code",
   "execution_count": 42,
   "id": "0b474aa5",
   "metadata": {
    "pycharm": {
     "name": "#%%\n"
    }
   },
   "outputs": [
    {
     "data": {
      "text/plain": [
       "[[array([489, 761], dtype=int32),\n",
       "  array([445, 500], dtype=int32),\n",
       "  array([432, 499], dtype=int32),\n",
       "  array([268, 770], dtype=int32),\n",
       "  array([339, 769], dtype=int32),\n",
       "  array([517, 753], dtype=int32),\n",
       "  array([504, 680], dtype=int32),\n",
       "  array([508, 771], dtype=int32),\n",
       "  array([531, 742], dtype=int32),\n",
       "  array([511, 793], dtype=int32),\n",
       "  array([515, 760], dtype=int32),\n",
       "  array([524, 792], dtype=int32),\n",
       "  array([508, 776], dtype=int32),\n",
       "  array([528, 837], dtype=int32),\n",
       "  array([479, 909], dtype=int32),\n",
       "  array([505, 909], dtype=int32),\n",
       "  array([530, 901], dtype=int32),\n",
       "  array([484, 861], dtype=int32),\n",
       "  array([482, 896], dtype=int32),\n",
       "  array([529, 887], dtype=int32),\n",
       "  array([529, 948], dtype=int32),\n",
       "  array([488, 897], dtype=int32),\n",
       "  array([537, 879], dtype=int32),\n",
       "  array([477, 877], dtype=int32),\n",
       "  array([516, 892], dtype=int32)],\n",
       " [array([537, 893], dtype=int32),\n",
       "  array([513, 896], dtype=int32),\n",
       "  array([511, 958], dtype=int32),\n",
       "  array([491, 872], dtype=int32)],\n",
       " [array([533, 949], dtype=int32)],\n",
       " [array([509, 957], dtype=int32)]]"
      ]
     },
     "execution_count": 42,
     "metadata": {},
     "output_type": "execute_result"
    }
   ],
   "source": [
    "fingertips_frame_groups"
   ]
  },
  {
   "cell_type": "code",
   "execution_count": 44,
   "id": "0b665706",
   "metadata": {
    "pycharm": {
     "name": "#%%\n"
    }
   },
   "outputs": [
    {
     "name": "stdout",
     "output_type": "stream",
     "text": [
      "[432 499]\n",
      "[491 872]\n",
      "[533 949]\n",
      "[509 957]\n"
     ]
    }
   ],
   "source": [
    "for grp in fingertips_frame_groups:\n",
    "    print(min(grp, key=lambda x: x[1]))"
   ]
  },
  {
   "cell_type": "code",
   "execution_count": null,
   "id": "1ebaeb4c",
   "metadata": {
    "pycharm": {
     "name": "#%%\n"
    }
   },
   "outputs": [],
   "source": []
  }
 ],
 "metadata": {
  "kernelspec": {
   "display_name": "Python 3",
   "language": "python",
   "name": "python3"
  },
  "language_info": {
   "codemirror_mode": {
    "name": "ipython",
    "version": 3
   },
   "file_extension": ".py",
   "mimetype": "text/x-python",
   "name": "python",
   "nbconvert_exporter": "python",
   "pygments_lexer": "ipython3",
   "version": "3.6.9"
  }
 },
 "nbformat": 4,
 "nbformat_minor": 5
}