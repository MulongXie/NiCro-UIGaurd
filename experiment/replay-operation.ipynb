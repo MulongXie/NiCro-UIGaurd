{
 "cells": [
  {
   "cell_type": "code",
   "execution_count": 1,
   "id": "aecc9e11",
   "metadata": {
    "pycharm": {
     "name": "#%%\n"
    }
   },
   "outputs": [],
   "source": [
    "import json\n",
    "from glob import glob\n",
    "from os.path import join as pjoin\n",
    "import os\n",
    "import cv2\n",
    "import numpy as np\n",
    "from matplotlib import pyplot as plt\n",
    "\n",
    "from match_elements.GUI_pair import GUIPair\n",
    "from GUI import GUI\n",
    "from Operation import Operation"
   ]
  },
  {
   "cell_type": "code",
   "execution_count": 2,
   "id": "c802359e",
   "metadata": {
    "pycharm": {
     "name": "#%%\n"
    }
   },
   "outputs": [],
   "source": [
    "# load resnet for encoding image to match\n",
    "from keras.applications.resnet import ResNet50\n",
    "resnet_model = ResNet50(include_top=False, input_shape=(32, 32, 3))"
   ]
  },
  {
   "cell_type": "code",
   "execution_count": 3,
   "id": "80117708",
   "metadata": {
    "pycharm": {
     "name": "#%%\n"
    }
   },
   "outputs": [
    {
     "name": "stdout",
     "output_type": "stream",
     "text": [
      "[2022/03/07 17:47:06] root WARNING: lang en is not support in PP-OCRv2, auto switch to version PP-OCR\n",
      "[2022/03/07 17:47:06] root WARNING: lang en is not support in PP-OCRv2, auto switch to version PP-OCR\n",
      "[2022/03/07 17:47:06] root WARNING: version PP-OCRv2 not support cls models, auto switch to version PP-OCR\n",
      "Namespace(benchmark=False, cls_batch_num=6, cls_image_shape='3, 48, 192', cls_model_dir='/home/ml/.paddleocr/2.3.0.2/ocr/cls/ch_ppocr_mobile_v2.0_cls_infer', cls_thresh=0.9, cpu_threads=10, det=True, det_algorithm='DB', det_db_box_thresh=0.6, det_db_score_mode='fast', det_db_thresh=0.3, det_db_unclip_ratio=1.5, det_east_cover_thresh=0.1, det_east_nms_thresh=0.2, det_east_score_thresh=0.8, det_limit_side_len=960, det_limit_type='max', det_model_dir='/home/ml/.paddleocr/2.3.0.2/ocr/det/en/en_ppocr_mobile_v2.0_det_infer', det_pse_box_thresh=0.85, det_pse_box_type='box', det_pse_min_area=16, det_pse_scale=1, det_pse_thresh=0, det_sast_nms_thresh=0.2, det_sast_polygon=False, det_sast_score_thresh=0.5, drop_score=0.5, e2e_algorithm='PGNet', e2e_char_dict_path='./ppocr/utils/ic15_dict.txt', e2e_limit_side_len=768, e2e_limit_type='max', e2e_model_dir=None, e2e_pgnet_mode='fast', e2e_pgnet_polygon=True, e2e_pgnet_score_thresh=0.5, e2e_pgnet_valid_set='totaltext', enable_mkldnn=False, gpu_mem=500, help='==SUPPRESS==', image_dir=None, ir_optim=True, label_list=['0', '180'], lang='en', layout_path_model='lp://PubLayNet/ppyolov2_r50vd_dcn_365e_publaynet/config', max_batch_size=10, max_text_length=25, min_subgraph_size=15, ocr_version='PP-OCRv2', output='./output/table', precision='fp32', process_id=0, rec=True, rec_algorithm='CRNN', rec_batch_num=6, rec_char_dict_path='/home/ml/.local/lib/python3.6/site-packages/paddleocr/ppocr/utils/en_dict.txt', rec_image_shape='3, 32, 320', rec_model_dir='/home/ml/.paddleocr/2.3.0.2/ocr/rec/en/en_number_mobile_v2.0_rec_infer', save_log_path='./log_output/', show_log=True, structure_version='STRUCTURE', table_char_dict_path=None, table_char_type='en', table_max_len=488, table_model_dir=None, total_process_num=1, type='ocr', use_angle_cls=True, use_dilation=False, use_gpu=False, use_mp=False, use_onnx=False, use_pdserving=False, use_space_char=True, use_tensorrt=False, vis_font_path='./doc/fonts/simfang.ttf', warmup=True)\n"
     ]
    }
   ],
   "source": [
    "# load PaddleOCR for text detection\n",
    "from paddleocr import PaddleOCR\n",
    "paddle_ocr = PaddleOCR(use_angle_cls=True, lang='en')"
   ]
  },
  {
   "cell_type": "code",
   "execution_count": 4,
   "id": "a817ad49",
   "metadata": {
    "pycharm": {
     "name": "#%%\n"
    }
   },
   "outputs": [
    {
     "name": "stdout",
     "output_type": "stream",
     "text": [
      "[2022/03/07 17:47:06] root DEBUG: dt_boxes num : 1, elapse : 0.03921031951904297\n",
      "[2022/03/07 17:47:06] root DEBUG: cls num  : 1, elapse : 0.004595756530761719\n",
      "[2022/03/07 17:47:06] root DEBUG: rec_res num  : 1, elapse : 0.003875732421875\n",
      "[Text Detection Completed in 0.051 s] Input: data/operation/target.png Output: data/operation/target.json\n",
      "[2022/03/07 17:47:06] root DEBUG: dt_boxes num : 3, elapse : 0.11318564414978027\n",
      "[2022/03/07 17:47:06] root DEBUG: cls num  : 3, elapse : 0.011447668075561523\n",
      "[2022/03/07 17:47:06] root DEBUG: rec_res num  : 3, elapse : 0.03669238090515137\n",
      "[Text Detection Completed in 0.177 s] Input: data/operation/target.png Output: data/operation/target.json\n",
      "[2022/03/07 17:47:06] root DEBUG: dt_boxes num : 1, elapse : 0.03405618667602539\n",
      "[2022/03/07 17:47:06] root DEBUG: cls num  : 1, elapse : 0.004242658615112305\n",
      "[2022/03/07 17:47:06] root DEBUG: rec_res num  : 1, elapse : 0.004838228225708008\n",
      "[Text Detection Completed in 0.051 s] Input: data/operation/target.png Output: data/operation/target.json\n",
      "[2022/03/07 17:47:06] root DEBUG: dt_boxes num : 0, elapse : 0.009029150009155273\n",
      "[2022/03/07 17:47:06] root DEBUG: cls num  : 0, elapse : 0\n",
      "[2022/03/07 17:47:06] root DEBUG: rec_res num  : 0, elapse : 1.6689300537109375e-06\n",
      "[Text Detection Completed in 0.011 s] Input: data/operation/target.png Output: data/operation/target.json\n",
      "[2022/03/07 17:47:06] root DEBUG: dt_boxes num : 0, elapse : 0.011074066162109375\n",
      "[2022/03/07 17:47:06] root DEBUG: cls num  : 0, elapse : 0\n",
      "[2022/03/07 17:47:06] root DEBUG: rec_res num  : 0, elapse : 1.6689300537109375e-06\n",
      "[Text Detection Completed in 0.013 s] Input: data/operation/target.png Output: data/operation/target.json\n",
      "[2022/03/07 17:47:06] root DEBUG: dt_boxes num : 0, elapse : 0.019811391830444336\n",
      "[2022/03/07 17:47:06] root DEBUG: cls num  : 0, elapse : 0\n",
      "[2022/03/07 17:47:06] root DEBUG: rec_res num  : 0, elapse : 1.6689300537109375e-06\n",
      "[Text Detection Completed in 0.024 s] Input: data/operation/target.png Output: data/operation/target.json\n",
      "[2022/03/07 17:47:06] root DEBUG: dt_boxes num : 0, elapse : 0.009099483489990234\n",
      "[2022/03/07 17:47:06] root DEBUG: cls num  : 0, elapse : 0\n",
      "[2022/03/07 17:47:06] root DEBUG: rec_res num  : 0, elapse : 1.430511474609375e-06\n",
      "[Text Detection Completed in 0.011 s] Input: data/operation/target.png Output: data/operation/target.json\n",
      "[2022/03/07 17:47:06] root DEBUG: dt_boxes num : 1, elapse : 0.012112617492675781\n",
      "[2022/03/07 17:47:06] root DEBUG: cls num  : 1, elapse : 0.004961729049682617\n",
      "[2022/03/07 17:47:06] root DEBUG: rec_res num  : 1, elapse : 0.003999233245849609\n",
      "[Text Detection Completed in 0.024 s] Input: data/operation/target.png Output: data/operation/target.json\n",
      "[2022/03/07 17:47:06] root DEBUG: dt_boxes num : 3, elapse : 0.11506414413452148\n",
      "[2022/03/07 17:47:06] root DEBUG: cls num  : 3, elapse : 0.011873006820678711\n",
      "[2022/03/07 17:47:07] root DEBUG: rec_res num  : 3, elapse : 0.036153554916381836\n",
      "[Text Detection Completed in 0.181 s] Input: data/operation/target.png Output: data/operation/target.json\n",
      "[2022/03/07 17:47:07] root DEBUG: dt_boxes num : 1, elapse : 0.033644676208496094\n",
      "[2022/03/07 17:47:07] root DEBUG: cls num  : 1, elapse : 0.0042383670806884766\n",
      "[2022/03/07 17:47:07] root DEBUG: rec_res num  : 1, elapse : 0.005460977554321289\n",
      "[Text Detection Completed in 0.050 s] Input: data/operation/target.png Output: data/operation/target.json\n",
      "[2022/03/07 17:47:07] root DEBUG: dt_boxes num : 0, elapse : 0.01209259033203125\n",
      "[2022/03/07 17:47:07] root DEBUG: cls num  : 0, elapse : 0\n",
      "[2022/03/07 17:47:07] root DEBUG: rec_res num  : 0, elapse : 9.5367431640625e-07\n",
      "[Text Detection Completed in 0.014 s] Input: data/operation/target.png Output: data/operation/target.json\n",
      "[2022/03/07 17:47:07] root DEBUG: dt_boxes num : 0, elapse : 0.015429019927978516\n",
      "[2022/03/07 17:47:07] root DEBUG: cls num  : 0, elapse : 0\n",
      "[2022/03/07 17:47:07] root DEBUG: rec_res num  : 0, elapse : 1.1920928955078125e-06\n",
      "[Text Detection Completed in 0.018 s] Input: data/operation/target.png Output: data/operation/target.json\n",
      "[2022/03/07 17:47:07] root DEBUG: dt_boxes num : 0, elapse : 0.026930809020996094\n",
      "[2022/03/07 17:47:07] root DEBUG: cls num  : 0, elapse : 0\n",
      "[2022/03/07 17:47:07] root DEBUG: rec_res num  : 0, elapse : 1.430511474609375e-06\n",
      "[Text Detection Completed in 0.031 s] Input: data/operation/target.png Output: data/operation/target.json\n",
      "[2022/03/07 17:47:07] root DEBUG: dt_boxes num : 1, elapse : 0.01988053321838379\n",
      "[2022/03/07 17:47:07] root DEBUG: cls num  : 1, elapse : 0.0042307376861572266\n",
      "[2022/03/07 17:47:07] root DEBUG: rec_res num  : 1, elapse : 0.018336057662963867\n",
      "[Text Detection Completed in 0.049 s] Input: data/operation/target.png Output: data/operation/target.json\n",
      "[2022/03/07 17:47:07] root DEBUG: dt_boxes num : 1, elapse : 0.04519343376159668\n",
      "[2022/03/07 17:47:07] root DEBUG: cls num  : 1, elapse : 0.0042536258697509766\n",
      "[2022/03/07 17:47:07] root DEBUG: rec_res num  : 1, elapse : 0.004590034484863281\n",
      "[Text Detection Completed in 0.061 s] Input: data/operation/target.png Output: data/operation/target.json\n",
      "[2022/03/07 17:47:07] root DEBUG: dt_boxes num : 1, elapse : 0.016003847122192383\n",
      "[2022/03/07 17:47:07] root DEBUG: cls num  : 1, elapse : 0.006228446960449219\n",
      "[2022/03/07 17:47:07] root DEBUG: rec_res num  : 1, elapse : 0.004758119583129883\n",
      "[Text Detection Completed in 0.030 s] Input: data/operation/target.png Output: data/operation/target.json\n",
      "[2022/03/07 17:47:07] root DEBUG: dt_boxes num : 3, elapse : 0.13875341415405273\n",
      "[2022/03/07 17:47:07] root DEBUG: cls num  : 3, elapse : 0.016992568969726562\n",
      "[2022/03/07 17:47:07] root DEBUG: rec_res num  : 3, elapse : 0.05455660820007324\n",
      "[Text Detection Completed in 0.229 s] Input: data/operation/target.png Output: data/operation/target.json\n",
      "[2022/03/07 17:47:07] root DEBUG: dt_boxes num : 1, elapse : 0.04624605178833008\n",
      "[2022/03/07 17:47:07] root DEBUG: cls num  : 1, elapse : 0.006254911422729492\n",
      "[2022/03/07 17:47:07] root DEBUG: rec_res num  : 1, elapse : 0.006786823272705078\n",
      "[Text Detection Completed in 0.066 s] Input: data/operation/target.png Output: data/operation/target.json\n",
      "[2022/03/07 17:47:07] root DEBUG: dt_boxes num : 0, elapse : 0.012223005294799805\n",
      "[2022/03/07 17:47:07] root DEBUG: cls num  : 0, elapse : 0\n",
      "[2022/03/07 17:47:07] root DEBUG: rec_res num  : 0, elapse : 1.1920928955078125e-06\n",
      "[Text Detection Completed in 0.014 s] Input: data/operation/target.png Output: data/operation/target.json\n",
      "[2022/03/07 17:47:07] root DEBUG: dt_boxes num : 0, elapse : 0.010009050369262695\n",
      "[2022/03/07 17:47:07] root DEBUG: cls num  : 0, elapse : 0\n",
      "[2022/03/07 17:47:07] root DEBUG: rec_res num  : 0, elapse : 1.6689300537109375e-06\n",
      "[Text Detection Completed in 0.012 s] Input: data/operation/target.png Output: data/operation/target.json\n",
      "[2022/03/07 17:47:07] root DEBUG: dt_boxes num : 1, elapse : 0.034195661544799805\n",
      "[2022/03/07 17:47:07] root DEBUG: cls num  : 1, elapse : 0.006290912628173828\n",
      "[2022/03/07 17:47:07] root DEBUG: rec_res num  : 1, elapse : 0.013260364532470703\n",
      "[Text Detection Completed in 0.059 s] Input: data/operation/target.png Output: data/operation/target.json\n",
      "[2022/03/07 17:47:07] root DEBUG: dt_boxes num : 0, elapse : 0.013638973236083984\n",
      "[2022/03/07 17:47:07] root DEBUG: cls num  : 0, elapse : 0\n",
      "[2022/03/07 17:47:07] root DEBUG: rec_res num  : 0, elapse : 1.6689300537109375e-06\n",
      "[Text Detection Completed in 0.016 s] Input: data/operation/target.png Output: data/operation/target.json\n",
      "[2022/03/07 17:47:08] root DEBUG: dt_boxes num : 3, elapse : 0.06493568420410156\n",
      "[2022/03/07 17:47:08] root DEBUG: cls num  : 3, elapse : 0.011659860610961914\n",
      "[2022/03/07 17:47:08] root DEBUG: rec_res num  : 3, elapse : 0.03652644157409668\n",
      "[Text Detection Completed in 0.124 s] Input: data/operation/target.png Output: data/operation/target.json\n",
      "[2022/03/07 17:47:08] root DEBUG: dt_boxes num : 0, elapse : 0.011046886444091797\n",
      "[2022/03/07 17:47:08] root DEBUG: cls num  : 0, elapse : 0\n",
      "[2022/03/07 17:47:08] root DEBUG: rec_res num  : 0, elapse : 1.9073486328125e-06\n",
      "[Text Detection Completed in 0.014 s] Input: data/operation/target.png Output: data/operation/target.json\n",
      "[2022/03/07 17:47:08] root DEBUG: dt_boxes num : 0, elapse : 0.019089698791503906\n"
     ]
    },
    {
     "name": "stdout",
     "output_type": "stream",
     "text": [
      "[2022/03/07 17:47:08] root DEBUG: cls num  : 0, elapse : 0\n",
      "[2022/03/07 17:47:08] root DEBUG: rec_res num  : 0, elapse : 1.1920928955078125e-06\n",
      "[Text Detection Completed in 0.023 s] Input: data/operation/target.png Output: data/operation/target.json\n",
      "[2022/03/07 17:47:08] root DEBUG: dt_boxes num : 0, elapse : 0.011462926864624023\n",
      "[2022/03/07 17:47:08] root DEBUG: cls num  : 0, elapse : 0\n",
      "[2022/03/07 17:47:08] root DEBUG: rec_res num  : 0, elapse : 1.430511474609375e-06\n",
      "[Text Detection Completed in 0.013 s] Input: data/operation/target.png Output: data/operation/target.json\n",
      "[2022/03/07 17:47:08] root DEBUG: dt_boxes num : 3, elapse : 0.09684205055236816\n",
      "[2022/03/07 17:47:08] root DEBUG: cls num  : 3, elapse : 0.012254476547241211\n",
      "[2022/03/07 17:47:08] root DEBUG: rec_res num  : 3, elapse : 0.035651445388793945\n",
      "[Text Detection Completed in 0.162 s] Input: data/operation/target.png Output: data/operation/target.json\n",
      "[2022/03/07 17:47:08] root DEBUG: dt_boxes num : 1, elapse : 0.03572511672973633\n",
      "[2022/03/07 17:47:08] root DEBUG: cls num  : 1, elapse : 0.0045168399810791016\n",
      "[2022/03/07 17:47:08] root DEBUG: rec_res num  : 1, elapse : 0.006903648376464844\n",
      "[Text Detection Completed in 0.052 s] Input: data/operation/target.png Output: data/operation/target.json\n",
      "[2022/03/07 17:47:08] root DEBUG: dt_boxes num : 0, elapse : 0.008636951446533203\n",
      "[2022/03/07 17:47:08] root DEBUG: cls num  : 0, elapse : 0\n",
      "[2022/03/07 17:47:08] root DEBUG: rec_res num  : 0, elapse : 1.9073486328125e-06\n",
      "[Text Detection Completed in 0.010 s] Input: data/operation/target.png Output: data/operation/target.json\n",
      "[2022/03/07 17:47:08] root DEBUG: dt_boxes num : 0, elapse : 0.007172584533691406\n",
      "[2022/03/07 17:47:08] root DEBUG: cls num  : 0, elapse : 0\n",
      "[2022/03/07 17:47:08] root DEBUG: rec_res num  : 0, elapse : 9.5367431640625e-07\n",
      "[Text Detection Completed in 0.009 s] Input: data/operation/target.png Output: data/operation/target.json\n",
      "[2022/03/07 17:47:08] root DEBUG: dt_boxes num : 1, elapse : 0.024338483810424805\n",
      "[2022/03/07 17:47:08] root DEBUG: cls num  : 1, elapse : 0.004160642623901367\n",
      "[2022/03/07 17:47:08] root DEBUG: rec_res num  : 1, elapse : 0.009293079376220703\n",
      "[Text Detection Completed in 0.043 s] Input: data/operation/target.png Output: data/operation/target.json\n"
     ]
    }
   ],
   "source": [
    "# load operations\n",
    "testing_data_root = '/home/ml/Data/visual testing/experiments/humanoid-output/adguard-1'\n",
    "\n",
    "steps_file = pjoin(testing_data_root, 'output.json')\n",
    "steps = json.load(open(steps_file, 'r'))\n",
    "\n",
    "operations = []\n",
    "for step in steps:\n",
    "    op = Operation(pjoin(testing_data_root, step['tag'] + '.jpg'), step['event_type'], step['bounds'])\n",
    "    op.detect_text(paddle_ocr)\n",
    "    op.shrink_target_element_img()\n",
    "    op.resize(int(op.ui_img_width * (800 / op.ui_img_height)), 800)        \n",
    "    operations.append(op)\n",
    "#     op.show_target_ele()\n",
    "#     break\n",
    "\n",
    "# test with the first operation\n",
    "# opr = operations[0]\n",
    "# opr.show_target_ele()"
   ]
  },
  {
   "cell_type": "code",
   "execution_count": 5,
   "id": "30ad5d26",
   "metadata": {
    "pycharm": {
     "name": "#%%\n"
    }
   },
   "outputs": [],
   "source": [
    "# activate the robot\n",
    "from robot.robot_control import RobotController\n",
    "robot_1 = RobotController(port='/dev/ttyACM0')\n",
    "robot_2 = RobotController(port='/dev/ttyACM1')"
   ]
  },
  {
   "cell_type": "code",
   "execution_count": 6,
   "id": "9e519af7",
   "metadata": {
    "pycharm": {
     "name": "#%%\n"
    }
   },
   "outputs": [],
   "source": [
    "robot_y2img_x = round(125/540, 2)  # y_robot : x_img = 130: 540\n",
    "robot_x2img_y = round((303-120)/820, 2)  # x_robot : y_img = 310: 820\n",
    "\n",
    "def cvt_image_pos_to_robot_coord(x_img, y_img):\n",
    "    x_robot = int((820 - y_img) * robot_x2img_y) + 120\n",
    "    y_robot = int((270 - x_img) * robot_y2img_x)\n",
    "    return x_robot, y_robot"
   ]
  },
  {
   "cell_type": "code",
   "execution_count": 7,
   "id": "a73efcf8",
   "metadata": {
    "pycharm": {
     "name": "#%%\n"
    }
   },
   "outputs": [
    {
     "name": "stderr",
     "output_type": "stream",
     "text": [
      "[D 220307 17:47:28 robot_control:21] Loading Robot Drivers...\n",
      "[D 220307 17:47:28 robot_control:21] Loading Robot Drivers...\n"
     ]
    }
   ],
   "source": [
    "robot_1.reset()\n",
    "robot_2.reset()"
   ]
  },
  {
   "cell_type": "code",
   "execution_count": null,
   "id": "d15da60c",
   "metadata": {
    "pycharm": {
     "name": "#%%\n"
    }
   },
   "outputs": [],
   "source": []
  },
  {
   "cell_type": "code",
   "execution_count": 2,
   "id": "d67bab60",
   "metadata": {
    "pycharm": {
     "name": "#%%\n"
    }
   },
   "outputs": [
    {
     "ename": "NameError",
     "evalue": "name 'cv2' is not defined",
     "output_type": "error",
     "traceback": [
      "\u001B[0;31m---------------------------------------------------------------------------\u001B[0m",
      "\u001B[0;31mNameError\u001B[0m                                 Traceback (most recent call last)",
      "\u001B[0;32m<ipython-input-2-f1cc4a9de8b1>\u001B[0m in \u001B[0;36m<module>\u001B[0;34m\u001B[0m\n\u001B[1;32m      2\u001B[0m \u001B[0;31m# *** Streaming Detection with Key Control ***\u001B[0m\u001B[0;34m\u001B[0m\u001B[0;34m\u001B[0m\u001B[0;34m\u001B[0m\u001B[0m\n\u001B[1;32m      3\u001B[0m \u001B[0;31m# ********************************************\u001B[0m\u001B[0;34m\u001B[0m\u001B[0;34m\u001B[0m\u001B[0;34m\u001B[0m\u001B[0m\n\u001B[0;32m----> 4\u001B[0;31m \u001B[0mcap\u001B[0m \u001B[0;34m=\u001B[0m \u001B[0mcv2\u001B[0m\u001B[0;34m.\u001B[0m\u001B[0mVideoCapture\u001B[0m\u001B[0;34m(\u001B[0m\u001B[0;36m0\u001B[0m\u001B[0;34m)\u001B[0m\u001B[0;34m\u001B[0m\u001B[0;34m\u001B[0m\u001B[0m\n\u001B[0m\u001B[1;32m      5\u001B[0m \u001B[0mcap\u001B[0m\u001B[0;34m.\u001B[0m\u001B[0mset\u001B[0m\u001B[0;34m(\u001B[0m\u001B[0mcv2\u001B[0m\u001B[0;34m.\u001B[0m\u001B[0mCAP_PROP_FRAME_WIDTH\u001B[0m\u001B[0;34m,\u001B[0m \u001B[0;36m960\u001B[0m\u001B[0;34m)\u001B[0m\u001B[0;34m\u001B[0m\u001B[0;34m\u001B[0m\u001B[0m\n\u001B[1;32m      6\u001B[0m \u001B[0mcap\u001B[0m\u001B[0;34m.\u001B[0m\u001B[0mset\u001B[0m\u001B[0;34m(\u001B[0m\u001B[0mcv2\u001B[0m\u001B[0;34m.\u001B[0m\u001B[0mCAP_PROP_FRAME_HEIGHT\u001B[0m\u001B[0;34m,\u001B[0m \u001B[0;36m540\u001B[0m\u001B[0;34m)\u001B[0m\u001B[0;34m\u001B[0m\u001B[0;34m\u001B[0m\u001B[0m\n",
      "\u001B[0;31mNameError\u001B[0m: name 'cv2' is not defined"
     ]
    }
   ],
   "source": [
    "# ********************************************\n",
    "# *** Streaming Detection with Key Control ***\n",
    "# ********************************************\n",
    "cap = cv2.VideoCapture(0)\n",
    "cap.set(cv2.CAP_PROP_FRAME_WIDTH, 960)\n",
    "cap.set(cv2.CAP_PROP_FRAME_HEIGHT, 540)\n",
    "\n",
    "opr_id = 0\n",
    "operate = False\n",
    "\n",
    "while(1):\n",
    "    ret, frame = cap.read()\n",
    "    frame = cv2.rotate(frame, cv2.cv2.ROTATE_90_CLOCKWISE)\n",
    "    frame = frame[80:900, :]\n",
    "    \n",
    "    cv2.imshow('camera', frame)\n",
    "    key = cv2.waitKey(10)\n",
    "    if key == ord('q'):\n",
    "        break\n",
    "    elif key == ord('s'):\n",
    "        if not operate:\n",
    "            cv2.destroyWindow('element matching')\n",
    "            opr = operations[opr_id]\n",
    "            opr.show_target_ele(show=True)\n",
    "            cv2.imwrite('data/output/temp.jpg', frame)\n",
    "\n",
    "            # 1. detect GUI element in the frame         \n",
    "            gui = GUI('data/output/temp.jpg')\n",
    "            gui.detect_element(True, True, True, paddle_cor=paddle_ocr)\n",
    "\n",
    "            # 2. focus on the screen region and adjust all elements\n",
    "            gui.adjust_elements_by_screen()\n",
    "            matched_ele = gui.match_elements(target_ele_img=opr.target_element_img, target_ele_text=opr.get_text_content(), resnet_model=resnet_model, min_similarity_img=0.55)\n",
    "\n",
    "            # 3. show the result\n",
    "            if matched_ele is not None:\n",
    "                board = gui.img.copy()\n",
    "                matched_ele.draw_element(board, show=False)\n",
    "                board = cv2.hconcat([opr.show_target_ele(show=False), board, gui.det_result_imgs['merge']])\n",
    "                cv2.imshow('element matching', board)\n",
    "                operate = True\n",
    "                opr_id += 1\n",
    "                continue\n",
    "            print('===================\\n')\n",
    "        \n",
    "        else:\n",
    "            # 4. operate the robot\n",
    "            print('The position of matched element:(%d, %d)' % (matched_ele.center_x, matched_ele.center_y))\n",
    "            x_robot, y_robot = cvt_image_pos_to_robot_coord(matched_ele.center_x, matched_ele.center_y)\n",
    "            robot_1.click((x_robot, y_robot, 20))\n",
    "            robot_2.click((x_robot, y_robot, 20))\n",
    "            operate = False\n",
    "            cv2.destroyWindow('element matching')\n",
    "cap.release()\n",
    "cv2.destroyAllWindows()"
   ]
  },
  {
   "cell_type": "code",
   "execution_count": null,
   "id": "7662420f",
   "metadata": {
    "pycharm": {
     "name": "#%%\n"
    }
   },
   "outputs": [],
   "source": [
    "cap.release()\n",
    "cv2.destroyAllWindows()"
   ]
  }
 ],
 "metadata": {
  "kernelspec": {
   "display_name": "Python 3",
   "language": "python",
   "name": "python3"
  },
  "language_info": {
   "codemirror_mode": {
    "name": "ipython",
    "version": 3
   },
   "file_extension": ".py",
   "mimetype": "text/x-python",
   "name": "python",
   "nbconvert_exporter": "python",
   "pygments_lexer": "ipython3",
   "version": "3.6.9"
  }
 },
 "nbformat": 4,
 "nbformat_minor": 5
}