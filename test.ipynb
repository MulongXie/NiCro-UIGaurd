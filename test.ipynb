{
 "cells": [
  {
   "cell_type": "markdown",
   "id": "dd3befbc",
   "metadata": {},
   "source": [
    "# Run NiCro"
   ]
  },
  {
   "cell_type": "markdown",
   "id": "ce782afa",
   "metadata": {},
   "source": [
    "## 0. Initiate NiCro with ocr option (paddle or google)"
   ]
  },
  {
   "cell_type": "markdown",
   "id": "4e57995b",
   "metadata": {},
   "source": [
    "Load models in ModelLoader for GUI component classification and dark pattern detection"
   ]
  },
  {
   "cell_type": "code",
   "execution_count": 1,
   "id": "8e79520b",
   "metadata": {},
   "outputs": [
    {
     "name": "stderr",
     "output_type": "stream",
     "text": [
      "C:\\Users\\xie029\\AppData\\Local\\Programs\\Python\\Python310\\lib\\site-packages\\tqdm\\auto.py:22: TqdmWarning: IProgress not found. Please update jupyter and ipywidgets. See https://ipywidgets.readthedocs.io/en/stable/user_install.html\n",
      "  from .autonotebook import tqdm as notebook_tqdm\n"
     ]
    },
    {
     "name": "stdout",
     "output_type": "stream",
     "text": [
      "*** Load model for compo classifier ***\n",
      "*** Model Loaded From C:\\Mulong\\Code\\Demo\\NiCro-UIGaurd\\element_detection\\classify_compo\\model\\resnet50_unfrozen_compo.h5 ***\n",
      "*** Load Template Matcher ***\n",
      "*** Load model for icon classifier ***\n",
      "*** Load model for status classifier ***\n"
     ]
    }
   ],
   "source": [
    "from utils.ModelLoader import modelLoader\n",
    "\n",
    "ml= modelLoader()\n",
    "ml.load_models()"
   ]
  },
  {
   "cell_type": "code",
   "execution_count": 2,
   "id": "139e2af5",
   "metadata": {},
   "outputs": [],
   "source": [
    "from NiCro import NiCro\n",
    "\n",
    "nicro = NiCro(ocr_opt='google', dp_model_loader=ml)"
   ]
  },
  {
   "cell_type": "markdown",
   "id": "0b2f596f",
   "metadata": {},
   "source": [
    "## 1. Load virtual devices and select one of them as the source device"
   ]
  },
  {
   "cell_type": "code",
   "execution_count": 3,
   "id": "efc1776f",
   "metadata": {},
   "outputs": [
    {
     "ename": "RuntimeError",
     "evalue": "ERROR: connecting to 127.0.0.1:5037 [WinError 10061] No connection could be made because the target machine actively refused it.\nIs adb running on your computer?",
     "output_type": "error",
     "traceback": [
      "\u001b[1;31m---------------------------------------------------------------------------\u001b[0m",
      "\u001b[1;31mConnectionRefusedError\u001b[0m                    Traceback (most recent call last)",
      "File \u001b[1;32m~\\AppData\\Local\\Programs\\Python\\Python310\\lib\\site-packages\\ppadb\\connection.py:36\u001b[0m, in \u001b[0;36mConnection.connect\u001b[1;34m(self)\u001b[0m\n\u001b[0;32m     35\u001b[0m \u001b[38;5;28;01mtry\u001b[39;00m:\n\u001b[1;32m---> 36\u001b[0m     \u001b[38;5;28;43mself\u001b[39;49m\u001b[38;5;241;43m.\u001b[39;49m\u001b[43msocket\u001b[49m\u001b[38;5;241;43m.\u001b[39;49m\u001b[43mconnect\u001b[49m\u001b[43m(\u001b[49m\u001b[43m(\u001b[49m\u001b[38;5;28;43mself\u001b[39;49m\u001b[38;5;241;43m.\u001b[39;49m\u001b[43mhost\u001b[49m\u001b[43m,\u001b[49m\u001b[43m \u001b[49m\u001b[38;5;28;43mself\u001b[39;49m\u001b[38;5;241;43m.\u001b[39;49m\u001b[43mport\u001b[49m\u001b[43m)\u001b[49m\u001b[43m)\u001b[49m\n\u001b[0;32m     37\u001b[0m \u001b[38;5;28;01mexcept\u001b[39;00m socket\u001b[38;5;241m.\u001b[39merror \u001b[38;5;28;01mas\u001b[39;00m e:\n",
      "\u001b[1;31mConnectionRefusedError\u001b[0m: [WinError 10061] No connection could be made because the target machine actively refused it",
      "\nDuring handling of the above exception, another exception occurred:\n",
      "\u001b[1;31mRuntimeError\u001b[0m                              Traceback (most recent call last)",
      "Cell \u001b[1;32mIn[3], line 1\u001b[0m\n\u001b[1;32m----> 1\u001b[0m \u001b[43mnicro\u001b[49m\u001b[38;5;241;43m.\u001b[39;49m\u001b[43mload_devices\u001b[49m\u001b[43m(\u001b[49m\u001b[43m)\u001b[49m\n\u001b[0;32m      2\u001b[0m nicro\u001b[38;5;241m.\u001b[39mget_devices_info()\n",
      "File \u001b[1;32mC:\\Mulong\\Code\\Demo\\NiCro-UIGaurd\\NiCro.py:53\u001b[0m, in \u001b[0;36mNiCro.load_devices\u001b[1;34m(self)\u001b[0m\n\u001b[0;32m     52\u001b[0m \u001b[38;5;28;01mdef\u001b[39;00m \u001b[38;5;21mload_devices\u001b[39m(\u001b[38;5;28mself\u001b[39m):\n\u001b[1;32m---> 53\u001b[0m     \u001b[38;5;28mself\u001b[39m\u001b[38;5;241m.\u001b[39mdevices \u001b[38;5;241m=\u001b[39m [Device(i, dev, dp_model_loader\u001b[38;5;241m=\u001b[39m\u001b[38;5;28mself\u001b[39m\u001b[38;5;241m.\u001b[39mdp_model_loader) \u001b[38;5;28;01mfor\u001b[39;00m i, dev \u001b[38;5;129;01min\u001b[39;00m \u001b[38;5;28menumerate\u001b[39m(\u001b[38;5;28msorted\u001b[39m(\u001b[43mclient\u001b[49m\u001b[38;5;241;43m.\u001b[39;49m\u001b[43mdevices\u001b[49m\u001b[43m(\u001b[49m\u001b[43m)\u001b[49m, key\u001b[38;5;241m=\u001b[39m\u001b[38;5;28;01mlambda\u001b[39;00m x: x\u001b[38;5;241m.\u001b[39mget_serial_no()))]\n\u001b[0;32m     54\u001b[0m     \u001b[38;5;28mself\u001b[39m\u001b[38;5;241m.\u001b[39msource_device \u001b[38;5;241m=\u001b[39m \u001b[38;5;28mself\u001b[39m\u001b[38;5;241m.\u001b[39mdevices[\u001b[38;5;241m0\u001b[39m]\n\u001b[0;32m     55\u001b[0m     \u001b[38;5;28mprint\u001b[39m(\u001b[38;5;124m'\u001b[39m\u001b[38;5;124mLoad \u001b[39m\u001b[38;5;132;01m%d\u001b[39;00m\u001b[38;5;124m Device Emulators\u001b[39m\u001b[38;5;124m'\u001b[39m \u001b[38;5;241m%\u001b[39m \u001b[38;5;28mlen\u001b[39m(\u001b[38;5;28mself\u001b[39m\u001b[38;5;241m.\u001b[39mdevices), \u001b[38;5;124m'\u001b[39m\u001b[38;5;124mSet Device 0 as the Source Device\u001b[39m\u001b[38;5;124m'\u001b[39m)\n",
      "File \u001b[1;32m~\\AppData\\Local\\Programs\\Python\\Python310\\lib\\site-packages\\ppadb\\command\\host\\__init__.py:23\u001b[0m, in \u001b[0;36mHost.devices\u001b[1;34m(self, state)\u001b[0m\n\u001b[0;32m     21\u001b[0m \u001b[38;5;28;01mdef\u001b[39;00m \u001b[38;5;21mdevices\u001b[39m(\u001b[38;5;28mself\u001b[39m, state\u001b[38;5;241m=\u001b[39m\u001b[38;5;28;01mNone\u001b[39;00m):\n\u001b[0;32m     22\u001b[0m     cmd \u001b[38;5;241m=\u001b[39m \u001b[38;5;124m\"\u001b[39m\u001b[38;5;124mhost:devices\u001b[39m\u001b[38;5;124m\"\u001b[39m\n\u001b[1;32m---> 23\u001b[0m     result \u001b[38;5;241m=\u001b[39m \u001b[38;5;28;43mself\u001b[39;49m\u001b[38;5;241;43m.\u001b[39;49m\u001b[43m_execute_cmd\u001b[49m\u001b[43m(\u001b[49m\u001b[43mcmd\u001b[49m\u001b[43m)\u001b[49m\n\u001b[0;32m     25\u001b[0m     devices \u001b[38;5;241m=\u001b[39m []\n\u001b[0;32m     27\u001b[0m     \u001b[38;5;28;01mfor\u001b[39;00m line \u001b[38;5;129;01min\u001b[39;00m result\u001b[38;5;241m.\u001b[39msplit(\u001b[38;5;124m'\u001b[39m\u001b[38;5;130;01m\\n\u001b[39;00m\u001b[38;5;124m'\u001b[39m):\n",
      "File \u001b[1;32m~\\AppData\\Local\\Programs\\Python\\Python310\\lib\\site-packages\\ppadb\\command\\host\\__init__.py:13\u001b[0m, in \u001b[0;36mHost._execute_cmd\u001b[1;34m(self, cmd, with_response)\u001b[0m\n\u001b[0;32m     12\u001b[0m \u001b[38;5;28;01mdef\u001b[39;00m \u001b[38;5;21m_execute_cmd\u001b[39m(\u001b[38;5;28mself\u001b[39m, cmd, with_response\u001b[38;5;241m=\u001b[39m\u001b[38;5;28;01mTrue\u001b[39;00m):\n\u001b[1;32m---> 13\u001b[0m     \u001b[38;5;28;01mwith\u001b[39;00m \u001b[38;5;28;43mself\u001b[39;49m\u001b[38;5;241;43m.\u001b[39;49m\u001b[43mcreate_connection\u001b[49m\u001b[43m(\u001b[49m\u001b[43m)\u001b[49m \u001b[38;5;28;01mas\u001b[39;00m conn:\n\u001b[0;32m     14\u001b[0m         conn\u001b[38;5;241m.\u001b[39msend(cmd)\n\u001b[0;32m     15\u001b[0m         \u001b[38;5;28;01mif\u001b[39;00m with_response:\n",
      "File \u001b[1;32m~\\AppData\\Local\\Programs\\Python\\Python310\\lib\\site-packages\\ppadb\\client.py:14\u001b[0m, in \u001b[0;36mClient.create_connection\u001b[1;34m(self, timeout)\u001b[0m\n\u001b[0;32m     12\u001b[0m \u001b[38;5;28;01mdef\u001b[39;00m \u001b[38;5;21mcreate_connection\u001b[39m(\u001b[38;5;28mself\u001b[39m, timeout\u001b[38;5;241m=\u001b[39m\u001b[38;5;28;01mNone\u001b[39;00m):\n\u001b[0;32m     13\u001b[0m     conn \u001b[38;5;241m=\u001b[39m Connection(\u001b[38;5;28mself\u001b[39m\u001b[38;5;241m.\u001b[39mhost, \u001b[38;5;28mself\u001b[39m\u001b[38;5;241m.\u001b[39mport, timeout)\n\u001b[1;32m---> 14\u001b[0m     \u001b[43mconn\u001b[49m\u001b[38;5;241;43m.\u001b[39;49m\u001b[43mconnect\u001b[49m\u001b[43m(\u001b[49m\u001b[43m)\u001b[49m\n\u001b[0;32m     15\u001b[0m     \u001b[38;5;28;01mreturn\u001b[39;00m conn\n",
      "File \u001b[1;32m~\\AppData\\Local\\Programs\\Python\\Python310\\lib\\site-packages\\ppadb\\connection.py:39\u001b[0m, in \u001b[0;36mConnection.connect\u001b[1;34m(self)\u001b[0m\n\u001b[0;32m     37\u001b[0m \u001b[38;5;28;01mexcept\u001b[39;00m socket\u001b[38;5;241m.\u001b[39merror \u001b[38;5;28;01mas\u001b[39;00m e:\n\u001b[0;32m     38\u001b[0m     \u001b[38;5;28mself\u001b[39m\u001b[38;5;241m.\u001b[39mclose()\n\u001b[1;32m---> 39\u001b[0m     \u001b[38;5;28;01mraise\u001b[39;00m \u001b[38;5;167;01mRuntimeError\u001b[39;00m(\u001b[38;5;124m\"\u001b[39m\u001b[38;5;124mERROR: connecting to \u001b[39m\u001b[38;5;132;01m{}\u001b[39;00m\u001b[38;5;124m:\u001b[39m\u001b[38;5;132;01m{}\u001b[39;00m\u001b[38;5;124m \u001b[39m\u001b[38;5;132;01m{}\u001b[39;00m\u001b[38;5;124m.\u001b[39m\u001b[38;5;130;01m\\n\u001b[39;00m\u001b[38;5;124mIs adb running on your computer?\u001b[39m\u001b[38;5;124m\"\u001b[39m\u001b[38;5;241m.\u001b[39mformat(\n\u001b[0;32m     40\u001b[0m         \u001b[38;5;28mself\u001b[39m\u001b[38;5;241m.\u001b[39mhost,\n\u001b[0;32m     41\u001b[0m         \u001b[38;5;28mself\u001b[39m\u001b[38;5;241m.\u001b[39mport,\n\u001b[0;32m     42\u001b[0m         e\n\u001b[0;32m     43\u001b[0m     ))\n\u001b[0;32m     45\u001b[0m \u001b[38;5;28;01mreturn\u001b[39;00m \u001b[38;5;28mself\u001b[39m\u001b[38;5;241m.\u001b[39msocket\n",
      "\u001b[1;31mRuntimeError\u001b[0m: ERROR: connecting to 127.0.0.1:5037 [WinError 10061] No connection could be made because the target machine actively refused it.\nIs adb running on your computer?"
     ]
    }
   ],
   "source": [
    "nicro.load_devices()\n",
    "nicro.get_devices_info()"
   ]
  },
  {
   "cell_type": "markdown",
   "id": "21530685",
   "metadata": {},
   "source": [
    "## 2. Load robot system (optional)"
   ]
  },
  {
   "cell_type": "code",
   "execution_count": 4,
   "id": "3f8449dd",
   "metadata": {},
   "outputs": [],
   "source": [
    "# nicro.load_robot()"
   ]
  },
  {
   "cell_type": "markdown",
   "id": "cce3b7dc",
   "metadata": {},
   "source": [
    "## 3. Select a device as the recording device (source device) by device id"
   ]
  },
  {
   "cell_type": "code",
   "execution_count": 5,
   "id": "77cffb11",
   "metadata": {},
   "outputs": [
    {
     "name": "stdout",
     "output_type": "stream",
     "text": [
      "Selected Source Device:\n",
      "Device ID:0 Name:emulator-5554 Resolution:Size(width=1080, height=2280)\n",
      "\n",
      "Device Emulators:\n",
      "Device ID:0 Name:emulator-5554 Resolution:Size(width=1080, height=2280)\n",
      "Device ID:1 Name:emulator-5556 Resolution:Size(width=2200, height=2480)\n",
      "No Robot Arm System\n"
     ]
    }
   ],
   "source": [
    "nicro.select_source_device(0)"
   ]
  },
  {
   "cell_type": "markdown",
   "id": "ecefa8e7",
   "metadata": {},
   "source": [
    "## 4. Detect GUI components for all the devices for their current GUI"
   ]
  },
  {
   "cell_type": "code",
   "execution_count": 6,
   "id": "25957d06",
   "metadata": {},
   "outputs": [],
   "source": [
    "# nicro.detect_gui_info_for_all_devices(verbose=True, show=True)"
   ]
  },
  {
   "cell_type": "markdown",
   "id": "3ed66da1",
   "metadata": {},
   "source": [
    "## 5. Control the source device by mouse in real time"
   ]
  },
  {
   "cell_type": "markdown",
   "id": "3d3a808d",
   "metadata": {},
   "source": [
    "### 5.1 Replay the action on all devices"
   ]
  },
  {
   "cell_type": "code",
   "execution_count": 7,
   "id": "6b80ab14",
   "metadata": {
    "scrolled": true
   },
   "outputs": [
    {
     "name": "stdout",
     "output_type": "stream",
     "text": [
      "\n",
      "****** GUI Component Detection Device [1 / 2] ******\n",
      "we\n",
      "[Text Detection Completed in 0.760 s] Input: data/screen/emulator-5554.png Output: data/output\\ocr\\emulator-5554.json\n",
      "[Compo Detection Completed in 0.532 s] Input: data/screen/emulator-5554.png Output: data/output\\ip\\emulator-5554.json\n",
      "[Merge Completed] Input: data/screen/emulator-5554.png Output: data/output\\merge\\emulator-5554.jpg\n",
      "\n",
      "****** GUI Component Detection Device [2 / 2] ******\n",
      "[Text Detection Completed in 0.860 s] Input: data/screen/emulator-5556.png Output: data/output\\ocr\\emulator-5556.json\n",
      "[Compo Detection Completed in 1.211 s] Input: data/screen/emulator-5556.png Output: data/output\\ip\\emulator-5556.json\n",
      "[Merge Completed] Input: data/screen/emulator-5556.png Output: data/output\\merge\\emulator-5556.jpg\n",
      "\n",
      "****** Click (76, 148) ******\n",
      "Action: {'type': 'click', 'coordinate': [(76, 148), (-1, -1)]}\n",
      "*** Replay Devices Number [2/2] ***\n",
      "Device ID:1 Name:emulator-5556 Resolution:Size(width=2200, height=2480)\n",
      "1/1 [==============================] - 0s 47ms/step\n",
      "Successfully match element\n",
      "****** Re-detect Source Device's screenshot and GUI ******\n",
      "*** Dark Pattern Detection ***\n",
      "Reorganise results Using 0.67s Dark Pattern Detected: False\n",
      "*** Done this turn ***\n",
      "\n",
      "****** Click (418, 2000) ******\n",
      "Action: {'type': 'click', 'coordinate': [(418, 2000), (-1, -1)]}\n",
      "*** Replay Devices Number [2/2] ***\n",
      "Device ID:1 Name:emulator-5556 Resolution:Size(width=2200, height=2480)\n",
      "Successfully match element\n",
      "****** Re-detect Source Device's screenshot and GUI ******\n",
      "*** Dark Pattern Detection ***\n",
      "Reorganise results Using 0.29s Dark Pattern Detected: False\n",
      "*** Done this turn ***\n",
      "\n",
      "****** Click (356, 1767) ******\n",
      "Action: {'type': 'click', 'coordinate': [(356, 1767), (-1, -1)]}\n",
      "*** Replay Devices Number [2/2] ***\n",
      "Device ID:1 Name:emulator-5556 Resolution:Size(width=2200, height=2480)\n",
      "Successfully match element\n",
      "****** Re-detect Source Device's screenshot and GUI ******\n",
      "*** Dark Pattern Detection ***\n",
      "Reorganise results Using 0.17s Dark Pattern Detected: False\n",
      "*** Done this turn ***\n",
      "\n",
      "****** Click (313, 743) ******\n",
      "Action: {'type': 'click', 'coordinate': [(313, 743), (-1, -1)]}\n",
      "No element found at (109, 260)\n",
      "*** Replay Devices Number [2/2] ***\n",
      "Device ID:1 Name:emulator-5556 Resolution:Size(width=2200, height=2480)\n",
      "****** Re-detect Source Device's screenshot and GUI ******\n",
      "*** Dark Pattern Detection ***\n",
      "Reorganise results Using 0.18s Dark Pattern Detected: True\n",
      "*** Done this turn ***\n"
     ]
    }
   ],
   "source": [
    "nicro.record_and_replay_actions(output_root='/home/ml/Data/visual testing/testcase', \n",
    "                                app_name='Desktop',\n",
    "                                testcase_id='1',\n",
    "                                is_record=False,\n",
    "                                is_replay=True)"
   ]
  },
  {
   "cell_type": "markdown",
   "id": "286723d2",
   "metadata": {},
   "source": [
    "### 5.2 Only save the action without replaying"
   ]
  },
  {
   "cell_type": "code",
   "execution_count": null,
   "id": "6ce79683",
   "metadata": {},
   "outputs": [],
   "source": [
    "nicro.record_and_replay_actions(output_root='/home/ml/Data/visual testing/testcase', \n",
    "                                app_name='Desktop',\n",
    "                                testcase_id='1',\n",
    "                                is_record=True,\n",
    "                                is_replay=False)"
   ]
  },
  {
   "cell_type": "markdown",
   "id": "0db4bbb6",
   "metadata": {},
   "source": [
    "# Module Testing"
   ]
  },
  {
   "cell_type": "markdown",
   "id": "ca3d9975",
   "metadata": {},
   "source": [
    "## Test Robotic system"
   ]
  },
  {
   "cell_type": "code",
   "execution_count": 1,
   "id": "47d619a3",
   "metadata": {},
   "outputs": [
    {
     "ename": "NameError",
     "evalue": "name 'nicro' is not defined",
     "output_type": "error",
     "traceback": [
      "\u001b[1;31m---------------------------------------------------------------------------\u001b[0m",
      "\u001b[1;31mNameError\u001b[0m                                 Traceback (most recent call last)",
      "Cell \u001b[1;32mIn[1], line 1\u001b[0m\n\u001b[1;32m----> 1\u001b[0m \u001b[43mnicro\u001b[49m\u001b[38;5;241m.\u001b[39mrobot\u001b[38;5;241m.\u001b[39mpress_depth \u001b[38;5;241m=\u001b[39m \u001b[38;5;241m20\u001b[39m\n",
      "\u001b[1;31mNameError\u001b[0m: name 'nicro' is not defined"
     ]
    }
   ],
   "source": [
    "nicro.robot.press_depth = 20"
   ]
  },
  {
   "cell_type": "code",
   "execution_count": 6,
   "id": "a8ea1377",
   "metadata": {},
   "outputs": [
    {
     "name": "stdout",
     "output_type": "stream",
     "text": [
      "226 19 [226, 19]\n"
     ]
    },
    {
     "name": "stderr",
     "output_type": "stream",
     "text": [
      "[D 230219 17:32:18 robot_control:40] Robot Click X: 226, Y:19\n",
      "[D 230219 17:32:18 robot_control:25] Loading Robot Drivers...\n"
     ]
    },
    {
     "name": "stdout",
     "output_type": "stream",
     "text": [
      "243 19 [243, 19]\n"
     ]
    },
    {
     "name": "stderr",
     "output_type": "stream",
     "text": [
      "[D 230219 17:32:23 robot_control:40] Robot Click X: 243, Y:19\n",
      "[D 230219 17:32:23 robot_control:25] Loading Robot Drivers...\n"
     ]
    },
    {
     "name": "stdout",
     "output_type": "stream",
     "text": [
      "281 17 [281, 17]\n"
     ]
    },
    {
     "name": "stderr",
     "output_type": "stream",
     "text": [
      "[D 230219 17:32:27 robot_control:40] Robot Click X: 281, Y:17\n",
      "[D 230219 17:32:27 robot_control:25] Loading Robot Drivers...\n"
     ]
    }
   ],
   "source": [
    "nicro.robot.control_robot_by_clicking_on_cam_video()   # test the robot system"
   ]
  },
  {
   "cell_type": "code",
   "execution_count": null,
   "id": "ad62bd46",
   "metadata": {},
   "outputs": [],
   "source": [
    "nicro.robot.detect_gui_element(nicro.paddle_ocr, show=True, ocr_opt=nicro.ocr_opt)   # detect GUI elements from photo (screen region)"
   ]
  },
  {
   "cell_type": "code",
   "execution_count": null,
   "id": "e3fb03e0",
   "metadata": {},
   "outputs": [],
   "source": [
    "nicro.robot.GUI.screen.show_clip()    # show the screen region"
   ]
  },
  {
   "cell_type": "markdown",
   "id": "31b89a7b",
   "metadata": {},
   "source": [
    "## Test widget matching methods on all devices"
   ]
  },
  {
   "cell_type": "code",
   "execution_count": null,
   "id": "50d6780c",
   "metadata": {},
   "outputs": [],
   "source": [
    "nicro.reset_matching_accuracy()\n",
    "nicro.click_to_match_widgets_cross_devices()  # click the target widget on the source device and match it on other devices"
   ]
  }
 ],
 "metadata": {
  "kernelspec": {
   "display_name": "Python 3 (ipykernel)",
   "language": "python",
   "name": "python3"
  },
  "language_info": {
   "codemirror_mode": {
    "name": "ipython",
    "version": 3
   },
   "file_extension": ".py",
   "mimetype": "text/x-python",
   "name": "python",
   "nbconvert_exporter": "python",
   "pygments_lexer": "ipython3",
   "version": "3.10.10"
  }
 },
 "nbformat": 4,
 "nbformat_minor": 5
}
