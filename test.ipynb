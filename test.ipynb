{
 "cells": [
  {
   "cell_type": "markdown",
   "id": "dd3befbc",
   "metadata": {},
   "source": [
    "# Run NiCro"
   ]
  },
  {
   "cell_type": "markdown",
   "id": "ce782afa",
   "metadata": {},
   "source": [
    "## 0. Initiate NiCro with ocr option (paddle or google)"
   ]
  },
  {
   "cell_type": "code",
   "execution_count": 1,
   "id": "3eda2d23",
   "metadata": {},
   "outputs": [],
   "source": [
    "from NiCro import NiCro\n",
    "\n",
    "nicro = NiCro(ocr_opt='google')"
   ]
  },
  {
   "cell_type": "markdown",
   "id": "0b2f596f",
   "metadata": {},
   "source": [
    "## 1. Load virtual devices and select one of them as the source device"
   ]
  },
  {
   "cell_type": "code",
   "execution_count": 6,
   "id": "efc1776f",
   "metadata": {},
   "outputs": [
    {
     "name": "stdout",
     "output_type": "stream",
     "text": [
      "Load 3 Device Emulators Set Device 0 as the Source Device\n",
      "Selected Source Device:\n",
      "Device ID:0 Name:emulator-5554 Resolution:Size(width=480, height=800)\n",
      "\n",
      "Device Emulators:\n",
      "Device ID:0 Name:emulator-5554 Resolution:Size(width=480, height=800)\n",
      "Device ID:1 Name:emulator-5556 Resolution:Size(width=1080, height=2280)\n",
      "Device ID:2 Name:emulator-5558 Resolution:Size(width=2200, height=2480)\n",
      "Robot Arm System Loaded\n"
     ]
    }
   ],
   "source": [
    "nicro.load_devices()\n",
    "nicro.get_devices_info()"
   ]
  },
  {
   "cell_type": "markdown",
   "id": "21530685",
   "metadata": {},
   "source": [
    "## 2. Load robot system (optional)"
   ]
  },
  {
   "cell_type": "code",
   "execution_count": 3,
   "id": "3f8449dd",
   "metadata": {},
   "outputs": [
    {
     "name": "stderr",
     "output_type": "stream",
     "text": [
      "[D 230216 13:24:51 robot_control:25] Loading Robot Drivers...\n"
     ]
    },
    {
     "name": "stdout",
     "output_type": "stream",
     "text": [
      "Robot Arm System Ready\n"
     ]
    }
   ],
   "source": [
    "nicro.load_robot()"
   ]
  },
  {
   "cell_type": "markdown",
   "id": "cce3b7dc",
   "metadata": {},
   "source": [
    "## 3. Select a device as the recording device (source device) by device id"
   ]
  },
  {
   "cell_type": "code",
   "execution_count": 7,
   "id": "77cffb11",
   "metadata": {},
   "outputs": [
    {
     "name": "stdout",
     "output_type": "stream",
     "text": [
      "Selected Source Device:\n",
      "Device ID:0 Name:emulator-5554 Resolution:Size(width=480, height=800)\n",
      "\n",
      "Device Emulators:\n",
      "Device ID:0 Name:emulator-5554 Resolution:Size(width=480, height=800)\n",
      "Device ID:1 Name:emulator-5556 Resolution:Size(width=1080, height=2280)\n",
      "Device ID:2 Name:emulator-5558 Resolution:Size(width=2200, height=2480)\n",
      "Robot Arm System Loaded\n"
     ]
    }
   ],
   "source": [
    "nicro.select_source_device(0)"
   ]
  },
  {
   "cell_type": "markdown",
   "id": "ecefa8e7",
   "metadata": {},
   "source": [
    "## 4. Detect GUI components for all the devices for their current GUI"
   ]
  },
  {
   "cell_type": "code",
   "execution_count": 16,
   "id": "25957d06",
   "metadata": {},
   "outputs": [
    {
     "name": "stdout",
     "output_type": "stream",
     "text": [
      "\n",
      "****** GUI Component Detection Device [1 / 3] ******\n",
      "[Text Detection Completed in 0.965 s] Input: data/screen/emulator-5554.png Output: data/output\\ocr\\emulator-5554.json\n",
      "[Compo Detection Completed in 1.325 s] Input: data/screen/emulator-5554.png Output: data/output\\ip\\emulator-5554.json\n",
      "[Merge Completed] Input: data/screen/emulator-5554.png Output: data/output\\merge\\emulator-5554.jpg\n",
      "\n",
      "****** GUI Component Detection Device [2 / 3] ******\n",
      "[Text Detection Completed in 0.636 s] Input: data/screen/emulator-5556.png Output: data/output\\ocr\\emulator-5556.json\n",
      "[Compo Detection Completed in 0.329 s] Input: data/screen/emulator-5556.png Output: data/output\\ip\\emulator-5556.json\n",
      "[Merge Completed] Input: data/screen/emulator-5556.png Output: data/output\\merge\\emulator-5556.jpg\n",
      "\n",
      "****** GUI Component Detection Device [3 / 3] ******\n",
      "[Text Detection Completed in 0.786 s] Input: data/screen/emulator-5558.png Output: data/output\\ocr\\emulator-5558.json\n",
      "[Compo Detection Completed in 1.836 s] Input: data/screen/emulator-5558.png Output: data/output\\ip\\emulator-5558.json\n",
      "[Merge Completed] Input: data/screen/emulator-5558.png Output: data/output\\merge\\emulator-5558.jpg\n",
      "\n",
      "****** GUI Component Detection Robot Arm [1 / 1] ******\n",
      "[Text Detection Completed in 0.670 s] Input: data/screen/robot_photo.png Output: data/output\\ocr\\robot_photo.json\n",
      "[Compo Detection Completed in 1.731 s] Input: data/screen/robot_photo.png Output: data/output\\ip\\robot_photo.json\n",
      "[Merge Completed] Input: data/screen/robot_photo.png Output: data/output\\merge\\robot_photo.jpg\n"
     ]
    }
   ],
   "source": [
    "nicro.detect_gui_info_for_all_devices(verbose=True, show=True)"
   ]
  },
  {
   "cell_type": "markdown",
   "id": "3ed66da1",
   "metadata": {},
   "source": [
    "## 5. Control the source device by mouse in real time"
   ]
  },
  {
   "cell_type": "markdown",
   "id": "3d3a808d",
   "metadata": {},
   "source": [
    "### 5.1 Replay the action on all devices"
   ]
  },
  {
   "cell_type": "code",
   "execution_count": 17,
   "id": "6b80ab14",
   "metadata": {},
   "outputs": [
    {
     "name": "stdout",
     "output_type": "stream",
     "text": [
      "\n",
      "****** Click (300, 509) ******\n",
      "Action: {'type': 'click', 'coordinate': [(300, 509), (-1, -1)]}\n",
      "*** Replay Devices Number [2/3] ***\n",
      "Device ID:1 Name:emulator-5556 Resolution:Size(width=1080, height=2280)\n",
      "1/1 [==============================] - 0s 80ms/step\n",
      "Successfully match element\n",
      "*** Replay Devices Number [3/3] ***\n",
      "Device ID:2 Name:emulator-5558 Resolution:Size(width=2200, height=2480)\n",
      "1/1 [==============================] - 0s 74ms/step\n",
      "Successfully match element\n",
      "*** Replay on Robot ***\n"
     ]
    },
    {
     "ename": "AttributeError",
     "evalue": "'NoneType' object has no attribute 'shape'",
     "output_type": "error",
     "traceback": [
      "\u001b[1;31m---------------------------------------------------------------------------\u001b[0m",
      "\u001b[1;31mAttributeError\u001b[0m                            Traceback (most recent call last)",
      "File \u001b[1;32mC:\\Mulong\\Code\\Robotic\\NiCro-Robotic-Visual-Testing\\NiCro.py:167\u001b[0m, in \u001b[0;36mNiCro.record_and_replay_actions.<locals>.on_mouse\u001b[1;34m(event, x, y, flags, params)\u001b[0m\n\u001b[0;32m    165\u001b[0m     os\u001b[38;5;241m.\u001b[39mmakedirs(save_action_execution_dir, exist_ok\u001b[38;5;241m=\u001b[39m\u001b[38;5;28;01mTrue\u001b[39;00m)\n\u001b[0;32m    166\u001b[0m     cv2\u001b[38;5;241m.\u001b[39mimwrite(pjoin(save_action_execution_dir, \u001b[38;5;28mstr\u001b[39m(s_dev\u001b[38;5;241m.\u001b[39mid) \u001b[38;5;241m+\u001b[39m \u001b[38;5;124m'\u001b[39m\u001b[38;5;124m.jpg\u001b[39m\u001b[38;5;124m'\u001b[39m), params[\u001b[38;5;241m0\u001b[39m])      \u001b[38;5;66;03m# actions drawn on detection result\u001b[39;00m\n\u001b[1;32m--> 167\u001b[0m     \u001b[38;5;28;43mself\u001b[39;49m\u001b[38;5;241;43m.\u001b[39;49m\u001b[43mreplay_action_on_all_devices\u001b[49m\u001b[43m(\u001b[49m\u001b[43mdetection_verbose\u001b[49m\u001b[38;5;241;43m=\u001b[39;49m\u001b[38;5;28;43;01mFalse\u001b[39;49;00m\u001b[43m,\u001b[49m\u001b[43m \u001b[49m\u001b[43msave_action_execution_dir\u001b[49m\u001b[38;5;241;43m=\u001b[39;49m\u001b[43msave_action_execution_dir\u001b[49m\u001b[43m)\u001b[49m\n\u001b[0;32m    169\u001b[0m \u001b[38;5;66;03m# update the screenshot and GUI of the selected target device\u001b[39;00m\n\u001b[0;32m    170\u001b[0m \u001b[38;5;28mprint\u001b[39m(\u001b[38;5;124m\"\u001b[39m\u001b[38;5;124m****** Re-detect Source Device\u001b[39m\u001b[38;5;124m'\u001b[39m\u001b[38;5;124ms screenshot and GUI ******\u001b[39m\u001b[38;5;124m\"\u001b[39m)\n",
      "File \u001b[1;32mC:\\Mulong\\Code\\Robotic\\NiCro-Robotic-Visual-Testing\\NiCro.py:232\u001b[0m, in \u001b[0;36mNiCro.replay_action_on_all_devices\u001b[1;34m(self, detection_verbose, save_action_execution_dir)\u001b[0m\n\u001b[0;32m    230\u001b[0m     dev\u001b[38;5;241m.\u001b[39mupdate_screenshot_and_gui(\u001b[38;5;28mself\u001b[39m\u001b[38;5;241m.\u001b[39mpaddle_ocr, ocr_opt\u001b[38;5;241m=\u001b[39m\u001b[38;5;28mself\u001b[39m\u001b[38;5;241m.\u001b[39mocr_opt, verbose\u001b[38;5;241m=\u001b[39mdetection_verbose)\n\u001b[0;32m    231\u001b[0m \u001b[38;5;28;01mif\u001b[39;00m \u001b[38;5;28mself\u001b[39m\u001b[38;5;241m.\u001b[39mrobot \u001b[38;5;129;01mis\u001b[39;00m \u001b[38;5;129;01mnot\u001b[39;00m \u001b[38;5;28;01mNone\u001b[39;00m:\n\u001b[1;32m--> 232\u001b[0m     \u001b[38;5;28;43mself\u001b[39;49m\u001b[38;5;241;43m.\u001b[39;49m\u001b[43mreplay_action_on_robot\u001b[49m\u001b[43m(\u001b[49m\u001b[43m)\u001b[49m\n\u001b[0;32m    233\u001b[0m     \u001b[38;5;28mself\u001b[39m\u001b[38;5;241m.\u001b[39mrobot\u001b[38;5;241m.\u001b[39mdetect_gui_element(\u001b[38;5;28mself\u001b[39m\u001b[38;5;241m.\u001b[39mpaddle_ocr, ocr_opt\u001b[38;5;241m=\u001b[39m\u001b[38;5;28mself\u001b[39m\u001b[38;5;241m.\u001b[39mocr_opt, verbose\u001b[38;5;241m=\u001b[39mdetection_verbose)\n",
      "File \u001b[1;32mC:\\Mulong\\Code\\Robotic\\NiCro-Robotic-Visual-Testing\\NiCro.py:213\u001b[0m, in \u001b[0;36mNiCro.replay_action_on_robot\u001b[1;34m(self)\u001b[0m\n\u001b[0;32m    211\u001b[0m \u001b[38;5;28;01mdef\u001b[39;00m \u001b[38;5;21mreplay_action_on_robot\u001b[39m(\u001b[38;5;28mself\u001b[39m):\n\u001b[0;32m    212\u001b[0m     \u001b[38;5;28mprint\u001b[39m(\u001b[38;5;124m'\u001b[39m\u001b[38;5;124m*** Replay on Robot ***\u001b[39m\u001b[38;5;124m'\u001b[39m)\n\u001b[1;32m--> 213\u001b[0m     screen_area_actual_height \u001b[38;5;241m=\u001b[39m \u001b[38;5;28;43mself\u001b[39;49m\u001b[38;5;241;43m.\u001b[39;49m\u001b[43mrobot\u001b[49m\u001b[38;5;241;43m.\u001b[39;49m\u001b[43mphoto_screen_area\u001b[49m\u001b[38;5;241;43m.\u001b[39;49m\u001b[43mshape\u001b[49m[\u001b[38;5;241m0\u001b[39m] \u001b[38;5;241m/\u001b[39m \u001b[38;5;28mself\u001b[39m\u001b[38;5;241m.\u001b[39mrobot\u001b[38;5;241m.\u001b[39mdetect_resize_ratio\n\u001b[0;32m    214\u001b[0m     screen_ratio \u001b[38;5;241m=\u001b[39m \u001b[38;5;28mself\u001b[39m\u001b[38;5;241m.\u001b[39msource_device\u001b[38;5;241m.\u001b[39mdevice\u001b[38;5;241m.\u001b[39mwm_size()[\u001b[38;5;241m1\u001b[39m] \u001b[38;5;241m/\u001b[39m screen_area_actual_height\n\u001b[0;32m    215\u001b[0m     matched_element \u001b[38;5;241m=\u001b[39m \u001b[38;5;28;01mNone\u001b[39;00m\n",
      "\u001b[1;31mAttributeError\u001b[0m: 'NoneType' object has no attribute 'shape'"
     ]
    },
    {
     "name": "stdout",
     "output_type": "stream",
     "text": [
      "\n",
      "****** Click (247, 288) ******\n",
      "Action: {'type': 'click', 'coordinate': [(247, 288), (-1, -1)]}\n",
      "*** Replay Devices Number [2/3] ***\n",
      "Device ID:1 Name:emulator-5556 Resolution:Size(width=1080, height=2280)\n",
      "1/1 [==============================] - 0s 92ms/step\n",
      "No element matched\n",
      "Scroll down and try to match again\n",
      "1/1 [==============================] - 0s 79ms/step\n",
      "No element matched\n",
      "*** Replay Devices Number [3/3] ***\n",
      "Device ID:2 Name:emulator-5558 Resolution:Size(width=2200, height=2480)\n",
      "1/1 [==============================] - 0s 42ms/step\n",
      "No element matched\n",
      "Scroll down and try to match again\n",
      "1/1 [==============================] - 0s 33ms/step\n",
      "No element matched\n",
      "*** Replay on Robot ***\n"
     ]
    },
    {
     "ename": "AttributeError",
     "evalue": "'NoneType' object has no attribute 'shape'",
     "output_type": "error",
     "traceback": [
      "\u001b[1;31m---------------------------------------------------------------------------\u001b[0m",
      "\u001b[1;31mAttributeError\u001b[0m                            Traceback (most recent call last)",
      "File \u001b[1;32mC:\\Mulong\\Code\\Robotic\\NiCro-Robotic-Visual-Testing\\NiCro.py:167\u001b[0m, in \u001b[0;36mNiCro.record_and_replay_actions.<locals>.on_mouse\u001b[1;34m(event, x, y, flags, params)\u001b[0m\n\u001b[0;32m    165\u001b[0m     os\u001b[38;5;241m.\u001b[39mmakedirs(save_action_execution_dir, exist_ok\u001b[38;5;241m=\u001b[39m\u001b[38;5;28;01mTrue\u001b[39;00m)\n\u001b[0;32m    166\u001b[0m     cv2\u001b[38;5;241m.\u001b[39mimwrite(pjoin(save_action_execution_dir, \u001b[38;5;28mstr\u001b[39m(s_dev\u001b[38;5;241m.\u001b[39mid) \u001b[38;5;241m+\u001b[39m \u001b[38;5;124m'\u001b[39m\u001b[38;5;124m.jpg\u001b[39m\u001b[38;5;124m'\u001b[39m), params[\u001b[38;5;241m0\u001b[39m])      \u001b[38;5;66;03m# actions drawn on detection result\u001b[39;00m\n\u001b[1;32m--> 167\u001b[0m     \u001b[38;5;28;43mself\u001b[39;49m\u001b[38;5;241;43m.\u001b[39;49m\u001b[43mreplay_action_on_all_devices\u001b[49m\u001b[43m(\u001b[49m\u001b[43mdetection_verbose\u001b[49m\u001b[38;5;241;43m=\u001b[39;49m\u001b[38;5;28;43;01mFalse\u001b[39;49;00m\u001b[43m,\u001b[49m\u001b[43m \u001b[49m\u001b[43msave_action_execution_dir\u001b[49m\u001b[38;5;241;43m=\u001b[39;49m\u001b[43msave_action_execution_dir\u001b[49m\u001b[43m)\u001b[49m\n\u001b[0;32m    169\u001b[0m \u001b[38;5;66;03m# update the screenshot and GUI of the selected target device\u001b[39;00m\n\u001b[0;32m    170\u001b[0m \u001b[38;5;28mprint\u001b[39m(\u001b[38;5;124m\"\u001b[39m\u001b[38;5;124m****** Re-detect Source Device\u001b[39m\u001b[38;5;124m'\u001b[39m\u001b[38;5;124ms screenshot and GUI ******\u001b[39m\u001b[38;5;124m\"\u001b[39m)\n",
      "File \u001b[1;32mC:\\Mulong\\Code\\Robotic\\NiCro-Robotic-Visual-Testing\\NiCro.py:232\u001b[0m, in \u001b[0;36mNiCro.replay_action_on_all_devices\u001b[1;34m(self, detection_verbose, save_action_execution_dir)\u001b[0m\n\u001b[0;32m    230\u001b[0m     dev\u001b[38;5;241m.\u001b[39mupdate_screenshot_and_gui(\u001b[38;5;28mself\u001b[39m\u001b[38;5;241m.\u001b[39mpaddle_ocr, ocr_opt\u001b[38;5;241m=\u001b[39m\u001b[38;5;28mself\u001b[39m\u001b[38;5;241m.\u001b[39mocr_opt, verbose\u001b[38;5;241m=\u001b[39mdetection_verbose)\n\u001b[0;32m    231\u001b[0m \u001b[38;5;28;01mif\u001b[39;00m \u001b[38;5;28mself\u001b[39m\u001b[38;5;241m.\u001b[39mrobot \u001b[38;5;129;01mis\u001b[39;00m \u001b[38;5;129;01mnot\u001b[39;00m \u001b[38;5;28;01mNone\u001b[39;00m:\n\u001b[1;32m--> 232\u001b[0m     \u001b[38;5;28;43mself\u001b[39;49m\u001b[38;5;241;43m.\u001b[39;49m\u001b[43mreplay_action_on_robot\u001b[49m\u001b[43m(\u001b[49m\u001b[43m)\u001b[49m\n\u001b[0;32m    233\u001b[0m     \u001b[38;5;28mself\u001b[39m\u001b[38;5;241m.\u001b[39mrobot\u001b[38;5;241m.\u001b[39mdetect_gui_element(\u001b[38;5;28mself\u001b[39m\u001b[38;5;241m.\u001b[39mpaddle_ocr, ocr_opt\u001b[38;5;241m=\u001b[39m\u001b[38;5;28mself\u001b[39m\u001b[38;5;241m.\u001b[39mocr_opt, verbose\u001b[38;5;241m=\u001b[39mdetection_verbose)\n",
      "File \u001b[1;32mC:\\Mulong\\Code\\Robotic\\NiCro-Robotic-Visual-Testing\\NiCro.py:213\u001b[0m, in \u001b[0;36mNiCro.replay_action_on_robot\u001b[1;34m(self)\u001b[0m\n\u001b[0;32m    211\u001b[0m \u001b[38;5;28;01mdef\u001b[39;00m \u001b[38;5;21mreplay_action_on_robot\u001b[39m(\u001b[38;5;28mself\u001b[39m):\n\u001b[0;32m    212\u001b[0m     \u001b[38;5;28mprint\u001b[39m(\u001b[38;5;124m'\u001b[39m\u001b[38;5;124m*** Replay on Robot ***\u001b[39m\u001b[38;5;124m'\u001b[39m)\n\u001b[1;32m--> 213\u001b[0m     screen_area_actual_height \u001b[38;5;241m=\u001b[39m \u001b[38;5;28;43mself\u001b[39;49m\u001b[38;5;241;43m.\u001b[39;49m\u001b[43mrobot\u001b[49m\u001b[38;5;241;43m.\u001b[39;49m\u001b[43mphoto_screen_area\u001b[49m\u001b[38;5;241;43m.\u001b[39;49m\u001b[43mshape\u001b[49m[\u001b[38;5;241m0\u001b[39m] \u001b[38;5;241m/\u001b[39m \u001b[38;5;28mself\u001b[39m\u001b[38;5;241m.\u001b[39mrobot\u001b[38;5;241m.\u001b[39mdetect_resize_ratio\n\u001b[0;32m    214\u001b[0m     screen_ratio \u001b[38;5;241m=\u001b[39m \u001b[38;5;28mself\u001b[39m\u001b[38;5;241m.\u001b[39msource_device\u001b[38;5;241m.\u001b[39mdevice\u001b[38;5;241m.\u001b[39mwm_size()[\u001b[38;5;241m1\u001b[39m] \u001b[38;5;241m/\u001b[39m screen_area_actual_height\n\u001b[0;32m    215\u001b[0m     matched_element \u001b[38;5;241m=\u001b[39m \u001b[38;5;28;01mNone\u001b[39;00m\n",
      "\u001b[1;31mAttributeError\u001b[0m: 'NoneType' object has no attribute 'shape'"
     ]
    }
   ],
   "source": [
    "nicro.record_and_replay_actions(output_root='/home/ml/Data/visual testing/testcase', \n",
    "                                app_name='Desktop',\n",
    "                                testcase_id='1',\n",
    "                                is_record=False,\n",
    "                                is_replay=True)"
   ]
  },
  {
   "cell_type": "markdown",
   "id": "286723d2",
   "metadata": {},
   "source": [
    "### 5.2 Only save the action without replaying"
   ]
  },
  {
   "cell_type": "code",
   "execution_count": null,
   "id": "6ce79683",
   "metadata": {},
   "outputs": [],
   "source": [
    "nicro.record_and_replay_actions(output_root='/home/ml/Data/visual testing/testcase', \n",
    "                                app_name='Desktop',\n",
    "                                testcase_id='1',\n",
    "                                is_record=True,\n",
    "                                is_replay=False)"
   ]
  },
  {
   "cell_type": "markdown",
   "id": "0db4bbb6",
   "metadata": {},
   "source": [
    "# Module Testing"
   ]
  },
  {
   "cell_type": "markdown",
   "id": "ca3d9975",
   "metadata": {},
   "source": [
    "## Test Robotic system"
   ]
  },
  {
   "cell_type": "code",
   "execution_count": 5,
   "id": "a8ea1377",
   "metadata": {},
   "outputs": [
    {
     "name": "stderr",
     "output_type": "stream",
     "text": [
      "[D 230216 13:28:02 robot_control:25] Loading Robot Drivers...\n"
     ]
    },
    {
     "name": "stdout",
     "output_type": "stream",
     "text": [
      "Press strength: 2\n"
     ]
    },
    {
     "name": "stderr",
     "output_type": "stream",
     "text": [
      "[D 230216 13:28:08 robot_control:25] Loading Robot Drivers...\n",
      "[D 230216 13:28:40 robot_control:25] Loading Robot Drivers...\n"
     ]
    },
    {
     "name": "stdout",
     "output_type": "stream",
     "text": [
      "Press strength: 1\n"
     ]
    },
    {
     "name": "stderr",
     "output_type": "stream",
     "text": [
      "[D 230216 13:29:05 robot_control:25] Loading Robot Drivers...\n"
     ]
    },
    {
     "name": "stdout",
     "output_type": "stream",
     "text": [
      "Press strength: 3\n"
     ]
    },
    {
     "name": "stderr",
     "output_type": "stream",
     "text": [
      "[D 230216 13:29:10 robot_control:25] Loading Robot Drivers...\n"
     ]
    },
    {
     "name": "stdout",
     "output_type": "stream",
     "text": [
      "Press strength: 4\n"
     ]
    },
    {
     "name": "stderr",
     "output_type": "stream",
     "text": [
      "[D 230216 13:29:13 robot_control:25] Loading Robot Drivers...\n"
     ]
    }
   ],
   "source": [
    "nicro.robot.control_robot_by_clicking_on_cam_video()   # test the robot system"
   ]
  },
  {
   "cell_type": "code",
   "execution_count": null,
   "id": "ad62bd46",
   "metadata": {},
   "outputs": [],
   "source": [
    "nicro.robot.detect_gui_element(nicro.paddle_ocr, show=True, ocr_opt=nicro.ocr_opt)   # detect GUI elements from photo (screen region)"
   ]
  },
  {
   "cell_type": "code",
   "execution_count": null,
   "id": "e3fb03e0",
   "metadata": {},
   "outputs": [],
   "source": [
    "nicro.robot.GUI.screen.show_clip()    # show the screen region"
   ]
  },
  {
   "cell_type": "markdown",
   "id": "31b89a7b",
   "metadata": {},
   "source": [
    "## Test widget matching methods on all devices"
   ]
  },
  {
   "cell_type": "code",
   "execution_count": null,
   "id": "50d6780c",
   "metadata": {},
   "outputs": [],
   "source": [
    "nicro.reset_matching_accuracy()\n",
    "nicro.click_to_match_widgets_cross_devices()  # click the target widget on the source device and match it on other devices"
   ]
  }
 ],
 "metadata": {
  "kernelspec": {
   "display_name": "Python 3 (ipykernel)",
   "language": "python",
   "name": "python3"
  },
  "language_info": {
   "codemirror_mode": {
    "name": "ipython",
    "version": 3
   },
   "file_extension": ".py",
   "mimetype": "text/x-python",
   "name": "python",
   "nbconvert_exporter": "python",
   "pygments_lexer": "ipython3",
   "version": "3.10.10"
  }
 },
 "nbformat": 4,
 "nbformat_minor": 5
}
