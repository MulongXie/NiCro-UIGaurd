{
 "cells": [
  {
   "cell_type": "code",
   "execution_count": 1,
   "id": "c1d3253e",
   "metadata": {},
   "outputs": [
    {
     "name": "stderr",
     "output_type": "stream",
     "text": [
      "C:\\Users\\xie029\\AppData\\Local\\Programs\\Python\\Python310\\lib\\site-packages\\tqdm\\auto.py:22: TqdmWarning: IProgress not found. Please update jupyter and ipywidgets. See https://ipywidgets.readthedocs.io/en/stable/user_install.html\n",
      "  from .autonotebook import tqdm as notebook_tqdm\n"
     ]
    }
   ],
   "source": [
    "from utils.GUI import GUI\n",
    "from utils.UIGuard import UIGuard\n",
    "from utils.ModelLoader import modelLoader"
   ]
  },
  {
   "cell_type": "code",
   "execution_count": 2,
   "id": "7139dc6e",
   "metadata": {},
   "outputs": [
    {
     "name": "stdout",
     "output_type": "stream",
     "text": [
      "*** Load model for compo classifier ***\n",
      "*** Model Loaded From C:\\Mulong\\Code\\Demo\\NiCro-UIGaurd\\element_detection\\classify_compo\\model\\resnet50_unfrozen_compo.h5 ***\n",
      "*** Load Template Matcher ***\n",
      "*** Load model for icon classifier ***\n",
      "*** Load model for status classifier ***\n"
     ]
    }
   ],
   "source": [
    "ml= modelLoader()\n",
    "ml.load_models()"
   ]
  },
  {
   "cell_type": "code",
   "execution_count": 3,
   "id": "3819e34e",
   "metadata": {},
   "outputs": [
    {
     "name": "stdout",
     "output_type": "stream",
     "text": [
      "[Text Detection Completed in 0.731 s] Input: data/input/2.jpg Output: data/output\\ocr\\2.json\n",
      "[Compo Detection Completed in 0.602 s] Input: data/input/2.jpg Output: data/output\\ip\\2.json\n",
      "[Merge Completed] Input: data/input/2.jpg Output: data/output\\merge\\2.jpg\n"
     ]
    }
   ],
   "source": [
    "gui = GUI('data/input/2.jpg', model_loader=ml)\n",
    "gui.detect_element(True, True, True, ocr_opt='google')\n",
    "gui.classify_compos()"
   ]
  },
  {
   "cell_type": "code",
   "execution_count": 4,
   "id": "aed24d4a",
   "metadata": {},
   "outputs": [
    {
     "name": "stdout",
     "output_type": "stream",
     "text": [
      "Reorganise results Using 1.87s\n",
      "++ android_output {'results': [{'type': 'Disguised Ad', 'desc': ' An advertisement pretends to be a normal content and users may click without knowing it is an ad.', 'text_content': '', 'container_bbox': [79, 535, 165, 551], 'children': []}]}\n"
     ]
    },
    {
     "data": {
      "text/plain": [
       "{'results': [{'type': 'Disguised Ad',\n",
       "   'desc': ' An advertisement pretends to be a normal content and users may click without knowing it is an ad.',\n",
       "   'text_content': '',\n",
       "   'container_bbox': [79, 535, 165, 551],\n",
       "   'children': []}]}"
      ]
     },
     "execution_count": 4,
     "metadata": {},
     "output_type": "execute_result"
    }
   ],
   "source": [
    "dp = UIGuard(model_loader=ml)\n",
    "dp.detect_dark_pattern(image_path=gui.img_path, elements_info=gui.get_elements_info_ui_guard(), vis=False)"
   ]
  },
  {
   "cell_type": "code",
   "execution_count": null,
   "id": "db2f4655",
   "metadata": {},
   "outputs": [],
   "source": []
  },
  {
   "cell_type": "code",
   "execution_count": null,
   "id": "260b54cb",
   "metadata": {},
   "outputs": [],
   "source": []
  },
  {
   "cell_type": "code",
   "execution_count": null,
   "id": "6e952836",
   "metadata": {},
   "outputs": [],
   "source": []
  },
  {
   "cell_type": "markdown",
   "id": "dd3befbc",
   "metadata": {},
   "source": [
    "# Run NiCro"
   ]
  },
  {
   "cell_type": "markdown",
   "id": "ce782afa",
   "metadata": {},
   "source": [
    "## 0. Initiate NiCro with ocr option (paddle or google)"
   ]
  },
  {
   "cell_type": "markdown",
   "id": "642406d4",
   "metadata": {},
   "source": [
    "Load models in ModelLoader for GUI component classification and dark pattern detection"
   ]
  },
  {
   "cell_type": "code",
   "execution_count": 1,
   "id": "6abf830a",
   "metadata": {},
   "outputs": [
    {
     "name": "stderr",
     "output_type": "stream",
     "text": [
      "C:\\Users\\xie029\\AppData\\Local\\Programs\\Python\\Python310\\lib\\site-packages\\tqdm\\auto.py:22: TqdmWarning: IProgress not found. Please update jupyter and ipywidgets. See https://ipywidgets.readthedocs.io/en/stable/user_install.html\n",
      "  from .autonotebook import tqdm as notebook_tqdm\n"
     ]
    },
    {
     "name": "stdout",
     "output_type": "stream",
     "text": [
      "*** Load model for compo classifier ***\n",
      "*** Model Loaded From C:\\Mulong\\Code\\Demo\\NiCro-UIGaurd\\element_detection\\classify_compo\\model\\resnet50_unfrozen_compo.h5 ***\n",
      "*** Load Template Matcher ***\n",
      "*** Load model for icon classifier ***\n",
      "*** Load model for status classifier ***\n"
     ]
    }
   ],
   "source": [
    "from utils.ModelLoader import modelLoader\n",
    "\n",
    "ml= modelLoader()\n",
    "ml.load_models()"
   ]
  },
  {
   "cell_type": "code",
   "execution_count": 2,
   "id": "4594c00c",
   "metadata": {},
   "outputs": [],
   "source": [
    "from NiCro import NiCro\n",
    "\n",
    "nicro = NiCro(ocr_opt='google', dp_model_loader=ml)"
   ]
  },
  {
   "cell_type": "markdown",
   "id": "0b2f596f",
   "metadata": {},
   "source": [
    "## 1. Load virtual devices and select one of them as the source device"
   ]
  },
  {
   "cell_type": "code",
   "execution_count": 3,
   "id": "efc1776f",
   "metadata": {},
   "outputs": [
    {
     "name": "stdout",
     "output_type": "stream",
     "text": [
      "Load 2 Device Emulators Set Device 0 as the Source Device\n",
      "Selected Source Device:\n",
      "Device ID:0 Name:emulator-5554 Resolution:Size(width=2200, height=2480)\n",
      "\n",
      "Device Emulators:\n",
      "Device ID:0 Name:emulator-5554 Resolution:Size(width=2200, height=2480)\n",
      "Device ID:1 Name:emulator-5556 Resolution:Size(width=1080, height=2280)\n",
      "No Robot Arm System\n"
     ]
    }
   ],
   "source": [
    "nicro.load_devices()\n",
    "nicro.get_devices_info()"
   ]
  },
  {
   "cell_type": "markdown",
   "id": "21530685",
   "metadata": {},
   "source": [
    "## 2. Load robot system (optional)"
   ]
  },
  {
   "cell_type": "code",
   "execution_count": 3,
   "id": "3f8449dd",
   "metadata": {},
   "outputs": [
    {
     "name": "stderr",
     "output_type": "stream",
     "text": [
      "[D 230216 13:24:51 robot_control:25] Loading Robot Drivers...\n"
     ]
    },
    {
     "name": "stdout",
     "output_type": "stream",
     "text": [
      "Robot Arm System Ready\n"
     ]
    }
   ],
   "source": [
    "nicro.load_robot()"
   ]
  },
  {
   "cell_type": "markdown",
   "id": "cce3b7dc",
   "metadata": {},
   "source": [
    "## 3. Select a device as the recording device (source device) by device id"
   ]
  },
  {
   "cell_type": "code",
   "execution_count": 4,
   "id": "77cffb11",
   "metadata": {},
   "outputs": [
    {
     "name": "stdout",
     "output_type": "stream",
     "text": [
      "Selected Source Device:\n",
      "Device ID:0 Name:emulator-5554 Resolution:Size(width=2200, height=2480)\n",
      "\n",
      "Device Emulators:\n",
      "Device ID:0 Name:emulator-5554 Resolution:Size(width=2200, height=2480)\n",
      "Device ID:1 Name:emulator-5556 Resolution:Size(width=1080, height=2280)\n",
      "No Robot Arm System\n"
     ]
    }
   ],
   "source": [
    "nicro.select_source_device(0)"
   ]
  },
  {
   "cell_type": "markdown",
   "id": "ecefa8e7",
   "metadata": {},
   "source": [
    "## 4. Detect GUI components for all the devices for their current GUI"
   ]
  },
  {
   "cell_type": "code",
   "execution_count": 5,
   "id": "25957d06",
   "metadata": {},
   "outputs": [
    {
     "name": "stdout",
     "output_type": "stream",
     "text": [
      "\n",
      "****** GUI Component Detection Device [1 / 2] ******\n",
      "[Text Detection Completed in 0.918 s] Input: data/screen/emulator-5554.png Output: data/output\\ocr\\emulator-5554.json\n",
      "[Compo Detection Completed in 1.366 s] Input: data/screen/emulator-5554.png Output: data/output\\ip\\emulator-5554.json\n",
      "[Merge Completed] Input: data/screen/emulator-5554.png Output: data/output\\merge\\emulator-5554.jpg\n",
      "*** Dark Pattern Detection ***\n",
      "Reorganise results Using 0.72s\n",
      "++ android_output {'results': []}\n",
      "\n",
      "****** GUI Component Detection Device [2 / 2] ******\n",
      "[Text Detection Completed in 0.773 s] Input: data/screen/emulator-5556.png Output: data/output\\ocr\\emulator-5556.json\n",
      "[Compo Detection Completed in 0.376 s] Input: data/screen/emulator-5556.png Output: data/output\\ip\\emulator-5556.json\n",
      "[Merge Completed] Input: data/screen/emulator-5556.png Output: data/output\\merge\\emulator-5556.jpg\n",
      "*** Dark Pattern Detection ***\n",
      "Reorganise results Using 0.30s\n",
      "++ android_output {'results': []}\n"
     ]
    }
   ],
   "source": [
    "nicro.detect_gui_info_for_all_devices(verbose=True, show=True)"
   ]
  },
  {
   "cell_type": "markdown",
   "id": "3ed66da1",
   "metadata": {},
   "source": [
    "## 5. Control the source device by mouse in real time"
   ]
  },
  {
   "cell_type": "markdown",
   "id": "3d3a808d",
   "metadata": {},
   "source": [
    "### 5.1 Replay the action on all devices"
   ]
  },
  {
   "cell_type": "code",
   "execution_count": null,
   "id": "6b80ab14",
   "metadata": {},
   "outputs": [
    {
     "name": "stdout",
     "output_type": "stream",
     "text": [
      "\n",
      "****** GUI Component Detection Device [1 / 2] ******\n",
      "[Text Detection Completed in 1.065 s] Input: data/screen/emulator-5554.png Output: data/output\\ocr\\emulator-5554.json\n",
      "[Compo Detection Completed in 1.365 s] Input: data/screen/emulator-5554.png Output: data/output\\ip\\emulator-5554.json\n",
      "[Merge Completed] Input: data/screen/emulator-5554.png Output: data/output\\merge\\emulator-5554.jpg\n",
      "*** Dark Pattern Detection ***\n",
      "Reorganise results Using 0.71s\n",
      "++ android_output {'results': []}\n",
      "\n",
      "****** GUI Component Detection Device [2 / 2] ******\n",
      "[Text Detection Completed in 0.928 s] Input: data/screen/emulator-5556.png Output: data/output\\ocr\\emulator-5556.json\n",
      "[Compo Detection Completed in 0.777 s] Input: data/screen/emulator-5556.png Output: data/output\\ip\\emulator-5556.json\n",
      "[Merge Completed] Input: data/screen/emulator-5556.png Output: data/output\\merge\\emulator-5556.jpg\n",
      "*** Dark Pattern Detection ***\n",
      "Reorganise results Using 0.52s\n",
      "++ android_output {'results': []}\n",
      "\n",
      "****** Click (381, 1472) ******\n",
      "Action: {'type': 'click', 'coordinate': [(381, 1472), (-1, -1)]}\n",
      "*** Dark Pattern Detection ***\n",
      "Reorganise results Using 0.27s\n",
      "++ android_output {'results': []}\n",
      "*** Replay Devices Number [2/2] ***\n",
      "Device ID:1 Name:emulator-5556 Resolution:Size(width=1080, height=2280)\n",
      "Successfully match element\n",
      "*** Dark Pattern Detection ***\n",
      "Reorganise results Using 0.17s\n",
      "++ android_output {'results': []}\n",
      "****** Re-detect Source Device's screenshot and GUI ******\n",
      "*** Dark Pattern Detection ***\n",
      "Reorganise results Using 0.29s\n",
      "++ android_output {'results': []}\n",
      "\n",
      "****** Click (316, 601) ******\n",
      "Action: {'type': 'click', 'coordinate': [(316, 601), (-1, -1)]}\n",
      "*** Dark Pattern Detection ***\n",
      "Reorganise results Using 0.29s\n",
      "++ android_output {'results': [{'type': 'Preselection', 'desc': ' The notification is enabled by default', 'text_content': '', 'container_bbox': [40, 409, 2151, 520], 'children': []}]}\n",
      "*** Replay Devices Number [2/2] ***\n",
      "Device ID:1 Name:emulator-5556 Resolution:Size(width=1080, height=2280)\n",
      "Successfully match element\n",
      "*** Dark Pattern Detection ***\n",
      "Reorganise results Using 0.20s\n",
      "++ android_output {'results': []}\n",
      "****** Re-detect Source Device's screenshot and GUI ******\n",
      "*** Dark Pattern Detection ***\n",
      "Reorganise results Using 0.28s\n",
      "++ android_output {'results': [{'type': 'Preselection', 'desc': ' The notification is enabled by default', 'text_content': '', 'container_bbox': [40, 409, 2151, 520], 'children': []}]}\n"
     ]
    }
   ],
   "source": [
    "nicro.record_and_replay_actions(output_root='/home/ml/Data/visual testing/testcase', \n",
    "                                app_name='Desktop',\n",
    "                                testcase_id='1',\n",
    "                                is_record=False,\n",
    "                                is_replay=True)"
   ]
  },
  {
   "cell_type": "markdown",
   "id": "286723d2",
   "metadata": {},
   "source": [
    "### 5.2 Only save the action without replaying"
   ]
  },
  {
   "cell_type": "code",
   "execution_count": null,
   "id": "6ce79683",
   "metadata": {},
   "outputs": [],
   "source": [
    "nicro.record_and_replay_actions(output_root='/home/ml/Data/visual testing/testcase', \n",
    "                                app_name='Desktop',\n",
    "                                testcase_id='1',\n",
    "                                is_record=True,\n",
    "                                is_replay=False)"
   ]
  },
  {
   "cell_type": "markdown",
   "id": "0db4bbb6",
   "metadata": {},
   "source": [
    "# Module Testing"
   ]
  },
  {
   "cell_type": "markdown",
   "id": "ca3d9975",
   "metadata": {},
   "source": [
    "## Test Robotic system"
   ]
  },
  {
   "cell_type": "code",
   "execution_count": 5,
   "id": "a8ea1377",
   "metadata": {},
   "outputs": [
    {
     "name": "stderr",
     "output_type": "stream",
     "text": [
      "[D 230216 13:28:02 robot_control:25] Loading Robot Drivers...\n"
     ]
    },
    {
     "name": "stdout",
     "output_type": "stream",
     "text": [
      "Press strength: 2\n"
     ]
    },
    {
     "name": "stderr",
     "output_type": "stream",
     "text": [
      "[D 230216 13:28:08 robot_control:25] Loading Robot Drivers...\n",
      "[D 230216 13:28:40 robot_control:25] Loading Robot Drivers...\n"
     ]
    },
    {
     "name": "stdout",
     "output_type": "stream",
     "text": [
      "Press strength: 1\n"
     ]
    },
    {
     "name": "stderr",
     "output_type": "stream",
     "text": [
      "[D 230216 13:29:05 robot_control:25] Loading Robot Drivers...\n"
     ]
    },
    {
     "name": "stdout",
     "output_type": "stream",
     "text": [
      "Press strength: 3\n"
     ]
    },
    {
     "name": "stderr",
     "output_type": "stream",
     "text": [
      "[D 230216 13:29:10 robot_control:25] Loading Robot Drivers...\n"
     ]
    },
    {
     "name": "stdout",
     "output_type": "stream",
     "text": [
      "Press strength: 4\n"
     ]
    },
    {
     "name": "stderr",
     "output_type": "stream",
     "text": [
      "[D 230216 13:29:13 robot_control:25] Loading Robot Drivers...\n"
     ]
    }
   ],
   "source": [
    "nicro.robot.control_robot_by_clicking_on_cam_video()   # test the robot system"
   ]
  },
  {
   "cell_type": "code",
   "execution_count": null,
   "id": "ad62bd46",
   "metadata": {},
   "outputs": [],
   "source": [
    "nicro.robot.detect_gui_element(nicro.paddle_ocr, show=True, ocr_opt=nicro.ocr_opt)   # detect GUI elements from photo (screen region)"
   ]
  },
  {
   "cell_type": "code",
   "execution_count": null,
   "id": "e3fb03e0",
   "metadata": {},
   "outputs": [],
   "source": [
    "nicro.robot.GUI.screen.show_clip()    # show the screen region"
   ]
  },
  {
   "cell_type": "markdown",
   "id": "31b89a7b",
   "metadata": {},
   "source": [
    "## Test widget matching methods on all devices"
   ]
  },
  {
   "cell_type": "code",
   "execution_count": null,
   "id": "50d6780c",
   "metadata": {},
   "outputs": [],
   "source": [
    "nicro.reset_matching_accuracy()\n",
    "nicro.click_to_match_widgets_cross_devices()  # click the target widget on the source device and match it on other devices"
   ]
  }
 ],
 "metadata": {
  "kernelspec": {
   "display_name": "Python 3 (ipykernel)",
   "language": "python",
   "name": "python3"
  },
  "language_info": {
   "codemirror_mode": {
    "name": "ipython",
    "version": 3
   },
   "file_extension": ".py",
   "mimetype": "text/x-python",
   "name": "python",
   "nbconvert_exporter": "python",
   "pygments_lexer": "ipython3",
   "version": "3.10.10"
  }
 },
 "nbformat": 4,
 "nbformat_minor": 5
}
